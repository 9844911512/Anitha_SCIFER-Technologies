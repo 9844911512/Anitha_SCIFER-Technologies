{
  "nbformat": 4,
  "nbformat_minor": 0,
  "metadata": {
    "colab": {
      "provenance": []
    },
    "kernelspec": {
      "name": "python3",
      "display_name": "Python 3"
    },
    "language_info": {
      "name": "python"
    }
  },
  "cells": [
    {
      "cell_type": "code",
      "execution_count": null,
      "metadata": {
        "colab": {
          "base_uri": "https://localhost:8080/"
        },
        "id": "x1ZJcGNZssGe",
        "outputId": "a519d626-0974-4e21-8d7a-949af8049564"
      },
      "outputs": [
        {
          "output_type": "stream",
          "name": "stdout",
          "text": [
            "i\n",
            "a\n"
          ]
        }
      ],
      "source": [
        "a=\"anitha\"\n",
        "print(a[2])\n",
        "print(a[5])"
      ]
    },
    {
      "cell_type": "code",
      "source": [
        "a=\"welcome to python\"\n",
        "print(a[2:5])\n",
        "print(a[6:10])"
      ],
      "metadata": {
        "colab": {
          "base_uri": "https://localhost:8080/"
        },
        "id": "3_twM8Izs4Dq",
        "outputId": "ce17ad2e-6379-40ff-e3d9-70ef318c3f56"
      },
      "execution_count": null,
      "outputs": [
        {
          "output_type": "stream",
          "name": "stdout",
          "text": [
            "lco\n",
            "e to\n"
          ]
        }
      ]
    },
    {
      "cell_type": "code",
      "source": [
        "#to get negative index\n",
        "a=\"welcome to python\"\n",
        "print(a[-2])\n",
        "print(a[-6:-2])\n"
      ],
      "metadata": {
        "colab": {
          "base_uri": "https://localhost:8080/"
        },
        "id": "PBImWcZUtX9l",
        "outputId": "0467de5a-f2b5-4565-d5fd-2d686fada575"
      },
      "execution_count": null,
      "outputs": [
        {
          "output_type": "stream",
          "name": "stdout",
          "text": [
            "o\n",
            "pyth\n"
          ]
        }
      ]
    },
    {
      "cell_type": "code",
      "source": [
        "a=\"welcome to python\"\n",
        "print(a[2:8:2])"
      ],
      "metadata": {
        "colab": {
          "base_uri": "https://localhost:8080/"
        },
        "id": "zeV1c7RMtxmh",
        "outputId": "b339859b-772a-469f-9322-8e603fdc3e40"
      },
      "execution_count": null,
      "outputs": [
        {
          "output_type": "stream",
          "name": "stdout",
          "text": [
            "loe\n"
          ]
        }
      ]
    },
    {
      "cell_type": "code",
      "source": [
        "a=\"welcome to python\"\n",
        "print(a[:4])\n",
        "print(a[2:])"
      ],
      "metadata": {
        "colab": {
          "base_uri": "https://localhost:8080/"
        },
        "id": "hqjEgs91uCdm",
        "outputId": "c1b13665-47de-4929-cca6-7ecd02d2e8b7"
      },
      "execution_count": null,
      "outputs": [
        {
          "output_type": "stream",
          "name": "stdout",
          "text": [
            "welc\n",
            "lcome to python\n"
          ]
        }
      ]
    },
    {
      "cell_type": "code",
      "source": [
        "a=\"welcome to python\"\n",
        "print(a.split())"
      ],
      "metadata": {
        "colab": {
          "base_uri": "https://localhost:8080/"
        },
        "id": "nW-Bdzm0u8cU",
        "outputId": "719f33ce-eb17-448d-c80b-be22aa1dbfbf"
      },
      "execution_count": null,
      "outputs": [
        {
          "output_type": "stream",
          "name": "stdout",
          "text": [
            "['welcome', 'to', 'python']\n"
          ]
        }
      ]
    },
    {
      "cell_type": "code",
      "source": [
        "a=\"welcome to python\"\n",
        "print(a.strip())"
      ],
      "metadata": {
        "colab": {
          "base_uri": "https://localhost:8080/"
        },
        "id": "MPGvjj3evIcr",
        "outputId": "be7e414e-ad2a-4671-b487-f7742f12dc47"
      },
      "execution_count": null,
      "outputs": [
        {
          "output_type": "stream",
          "name": "stdout",
          "text": [
            "welcome to python\n"
          ]
        }
      ]
    },
    {
      "cell_type": "code",
      "source": [
        "a=\"welcome to python\"\n",
        "print(a.upper())"
      ],
      "metadata": {
        "colab": {
          "base_uri": "https://localhost:8080/"
        },
        "id": "JDiHcZ1pvUcv",
        "outputId": "b179d5a5-4bbe-480f-cbee-ed7ca0f8e8aa"
      },
      "execution_count": null,
      "outputs": [
        {
          "output_type": "stream",
          "name": "stdout",
          "text": [
            "WELCOME TO PYTHON\n"
          ]
        }
      ]
    },
    {
      "cell_type": "code",
      "source": [
        "a=\"WELCOME TO PYTHON\"\n",
        "print(a.lower())"
      ],
      "metadata": {
        "colab": {
          "base_uri": "https://localhost:8080/"
        },
        "id": "zVVDCIA6vfEu",
        "outputId": "e7a58103-7c08-42aa-a10b-2557c4529f0b"
      },
      "execution_count": null,
      "outputs": [
        {
          "output_type": "stream",
          "name": "stdout",
          "text": [
            "welcome to python\n"
          ]
        }
      ]
    },
    {
      "cell_type": "code",
      "source": [
        "a=\"He went to Temple\"\n",
        "print(a.replace(\"He\", \"she\"))"
      ],
      "metadata": {
        "colab": {
          "base_uri": "https://localhost:8080/"
        },
        "id": "PtwJgXkMvqQQ",
        "outputId": "54565538-6f6f-411b-bf36-46f861890e86"
      },
      "execution_count": null,
      "outputs": [
        {
          "output_type": "stream",
          "name": "stdout",
          "text": [
            "she went to Temple\n"
          ]
        }
      ]
    },
    {
      "cell_type": "code",
      "source": [
        "a=\"hi\"\n",
        "b=\"hello\"\n",
        "c=a+b\n",
        "print(c)\n",
        "print(a+\" \"+b)"
      ],
      "metadata": {
        "colab": {
          "base_uri": "https://localhost:8080/"
        },
        "id": "O2rHlG0xv5jz",
        "outputId": "dd8d41c8-3c78-4d34-cf56-495fa461ecd5"
      },
      "execution_count": null,
      "outputs": [
        {
          "output_type": "stream",
          "name": "stdout",
          "text": [
            "hihello\n",
            "hi hello\n"
          ]
        }
      ]
    },
    {
      "cell_type": "markdown",
      "source": [
        "Creating text file"
      ],
      "metadata": {
        "id": "qnDx6nYWw2q-"
      }
    },
    {
      "cell_type": "code",
      "source": [
        "file=open(\"fruit.txt\",\"w+\")\n",
        "file.write(\"apple\")\n",
        "file.write(\"banana\")\n",
        "file.close()"
      ],
      "metadata": {
        "id": "X8TCEhv7wWBv"
      },
      "execution_count": null,
      "outputs": []
    },
    {
      "cell_type": "code",
      "source": [
        "file1=open(\"numbers.txt\",\"w+\")\n",
        "for i in range(5):\n",
        "  file1.write(\"The numbers are :%d/r/n\"%(i+1))\n"
      ],
      "metadata": {
        "id": "0Eq7YmAAyd9v"
      },
      "execution_count": null,
      "outputs": []
    },
    {
      "cell_type": "code",
      "source": [
        "open(\"numbers.txt\",\"r\")\n",
        "if file1.mode==\"r\":\n",
        "  content=file1.read()\n",
        "  print(content)"
      ],
      "metadata": {
        "id": "a3PXyjcVzWBD"
      },
      "execution_count": null,
      "outputs": []
    },
    {
      "cell_type": "markdown",
      "source": [
        "**Text preprocessing**"
      ],
      "metadata": {
        "id": "45XqS2Xe3N5R"
      }
    },
    {
      "cell_type": "code",
      "source": [
        "import nltk\n",
        "import string\n",
        "import re"
      ],
      "metadata": {
        "id": "GROZKyqy15sI"
      },
      "execution_count": null,
      "outputs": []
    },
    {
      "cell_type": "code",
      "source": [
        "#text lowercase\n",
        "def lowercase_text(text):\n",
        "  return text.lower()\n",
        "\n",
        "input_string=\"The Editorial Of Organiser weekly Further Noted that Regional Imbalance was Another Critical dimension\"\n",
        "\n",
        "lowercase_text(input_string)"
      ],
      "metadata": {
        "colab": {
          "base_uri": "https://localhost:8080/",
          "height": 36
        },
        "id": "9X6LKcaA3JRs",
        "outputId": "d718b675-861e-427e-b4ec-00b185b8e5f7"
      },
      "execution_count": null,
      "outputs": [
        {
          "output_type": "execute_result",
          "data": {
            "text/plain": [
              "'the editorial of organiser weekly further noted that regional imbalance was another critical dimension'"
            ],
            "application/vnd.google.colaboratory.intrinsic+json": {
              "type": "string"
            }
          },
          "metadata": {},
          "execution_count": 49
        }
      ]
    },
    {
      "cell_type": "markdown",
      "source": [
        "**Remove numbers**"
      ],
      "metadata": {
        "id": "7wNKZ2mm41TA"
      }
    },
    {
      "cell_type": "code",
      "source": [
        "def remove_numbers(text):\n",
        "  result=re.sub(r'\\d+','',text)\n",
        "  return result()\n",
        "\n",
        "  input_string=\"There are 10 boxes contains 6 ball each\"\n",
        "  remove_numbers(input_string)"
      ],
      "metadata": {
        "id": "HnAK3HpU4bEl"
      },
      "execution_count": null,
      "outputs": []
    },
    {
      "cell_type": "markdown",
      "source": [
        "convert numbers into words using inflect library"
      ],
      "metadata": {
        "id": "kxbr5Aaj7yWX"
      }
    },
    {
      "cell_type": "code",
      "source": [
        "import inflect"
      ],
      "metadata": {
        "id": "4aFOiM-H6kYM"
      },
      "execution_count": null,
      "outputs": []
    },
    {
      "cell_type": "code",
      "source": [
        "a=inflect.engine()\n",
        "#convert number into text\n",
        "def convert_numbers(text):\n",
        "\n",
        "  temp_string=text.split()\n",
        "  new_str=[]\n",
        "  for word in  temp_string:\n",
        "    if word.isdigit():\n",
        "      temp=a.number_to_words(word)\n",
        "      new_str.append(temp)\n",
        "\n",
        "  else:\n",
        "    new_str.append(word)\n",
        "\n",
        "    temp_string=\" \".join(new_str)\n",
        "\n",
        "\n",
        "  return temp_string\n",
        "\n",
        "input_string=\"There are 10 boxes contains 6 ball each\"\n",
        "convert_numbers(input_string)"
      ],
      "metadata": {
        "colab": {
          "base_uri": "https://localhost:8080/",
          "height": 36
        },
        "id": "fm0diC3H8HWc",
        "outputId": "739e5158-d463-4f83-b0f5-3612a23c17c9"
      },
      "execution_count": null,
      "outputs": [
        {
          "output_type": "execute_result",
          "data": {
            "text/plain": [
              "'ten six each'"
            ],
            "application/vnd.google.colaboratory.intrinsic+json": {
              "type": "string"
            }
          },
          "metadata": {},
          "execution_count": 74
        }
      ]
    },
    {
      "cell_type": "markdown",
      "source": [
        "[link text](https://)**Remove punctuation**"
      ],
      "metadata": {
        "id": "60YOXDMjaQDK"
      }
    },
    {
      "cell_type": "code",
      "source": [
        "def rem_pun(text):\n",
        "  translator=str.maketrans(\"\",string.punctuation)\n",
        "  return text.translate(translator)\n",
        "  input_string=\"If you’ve ever wondered, “Do I need a comma here?” or “Does punctuation go inside quotations?\"\n",
        "  rem_pun(input_string)\n",
        "\n",
        "  string.punctuation\n",
        "\n",
        "\n"
      ],
      "metadata": {
        "id": "-iXfu8Cm_1FR"
      },
      "execution_count": null,
      "outputs": []
    },
    {
      "cell_type": "code",
      "source": [],
      "metadata": {
        "id": "GU2XkMQubv0p"
      },
      "execution_count": null,
      "outputs": []
    }
  ]
}