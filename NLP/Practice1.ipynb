{
  "nbformat": 4,
  "nbformat_minor": 0,
  "metadata": {
    "colab": {
      "provenance": []
    },
    "kernelspec": {
      "name": "python3",
      "display_name": "Python 3"
    },
    "language_info": {
      "name": "python"
    }
  },
  "cells": [
    {
      "cell_type": "code",
      "execution_count": null,
      "metadata": {
        "colab": {
          "base_uri": "https://localhost:8080/"
        },
        "id": "klClQ4-IcouB",
        "outputId": "d8a98216-ba39-4a6f-a788-4a96ccdade95"
      },
      "outputs": [
        {
          "output_type": "stream",
          "name": "stdout",
          "text": [
            "DATA\n"
          ]
        }
      ],
      "source": [
        "a = \"DATA\"\n",
        "print(a)"
      ]
    },
    {
      "cell_type": "code",
      "source": [
        "a = \"DATASET\"\n",
        "print(a[6])"
      ],
      "metadata": {
        "colab": {
          "base_uri": "https://localhost:8080/"
        },
        "id": "_DSCiuBcczZy",
        "outputId": "53383f20-485b-4989-ab61-2edff30024d1"
      },
      "execution_count": null,
      "outputs": [
        {
          "output_type": "stream",
          "name": "stdout",
          "text": [
            "T\n"
          ]
        }
      ]
    },
    {
      "cell_type": "code",
      "source": [
        "a = \"Data test\"\n",
        "print(a[4:7])"
      ],
      "metadata": {
        "colab": {
          "base_uri": "https://localhost:8080/"
        },
        "id": "yOURY8jpc7F1",
        "outputId": "58c148eb-2899-42dd-cf16-4b24bfe34202"
      },
      "execution_count": null,
      "outputs": [
        {
          "output_type": "stream",
          "name": "stdout",
          "text": [
            " te\n"
          ]
        }
      ]
    },
    {
      "cell_type": "code",
      "source": [
        "print(a[-6:-2])"
      ],
      "metadata": {
        "colab": {
          "base_uri": "https://localhost:8080/"
        },
        "id": "PJ2xQqOZdFWR",
        "outputId": "b4df452c-bba0-44db-cf0a-30283fafcff0"
      },
      "execution_count": null,
      "outputs": [
        {
          "output_type": "stream",
          "name": "stdout",
          "text": [
            "a te\n"
          ]
        }
      ]
    },
    {
      "cell_type": "code",
      "source": [
        "print(a[1:7:2])"
      ],
      "metadata": {
        "colab": {
          "base_uri": "https://localhost:8080/"
        },
        "id": "KUFBApIQdLsj",
        "outputId": "c9017540-72d0-4e1b-d5d4-65db7f0df767"
      },
      "execution_count": null,
      "outputs": [
        {
          "output_type": "stream",
          "name": "stdout",
          "text": [
            "aat\n"
          ]
        }
      ]
    },
    {
      "cell_type": "code",
      "source": [
        "a = \"DATASET\"\n",
        "print(a.lower())"
      ],
      "metadata": {
        "colab": {
          "base_uri": "https://localhost:8080/"
        },
        "id": "-5bLgndjdP7Z",
        "outputId": "3631e133-c30a-40ff-e6d4-c8612e39147d"
      },
      "execution_count": null,
      "outputs": [
        {
          "output_type": "stream",
          "name": "stdout",
          "text": [
            "dataset\n"
          ]
        }
      ]
    },
    {
      "cell_type": "code",
      "source": [
        "a=\"dataset\"\n",
        "print(a.upper())"
      ],
      "metadata": {
        "colab": {
          "base_uri": "https://localhost:8080/"
        },
        "id": "7bggVfeUdb2F",
        "outputId": "d75c7a8a-c0b2-448e-b120-0024d9c9eb91"
      },
      "execution_count": null,
      "outputs": [
        {
          "output_type": "stream",
          "name": "stdout",
          "text": [
            "DATASET\n"
          ]
        }
      ]
    },
    {
      "cell_type": "code",
      "source": [
        "a = \"i love python\"\n",
        "print(a.replace(\"i\", \"me\"))"
      ],
      "metadata": {
        "colab": {
          "base_uri": "https://localhost:8080/"
        },
        "id": "j856PczDdnU3",
        "outputId": "d243e8ae-217d-4168-afda-93cb1f700c75"
      },
      "execution_count": null,
      "outputs": [
        {
          "output_type": "stream",
          "name": "stdout",
          "text": [
            "me love python\n"
          ]
        }
      ]
    },
    {
      "cell_type": "code",
      "source": [
        "a = \"Bangalore\"\n",
        "\n",
        "print(a.split(\"o\"))"
      ],
      "metadata": {
        "colab": {
          "base_uri": "https://localhost:8080/"
        },
        "id": "qWLS0Lc2dxRc",
        "outputId": "32d7c821-fbd8-46bf-85a9-e9728a0fa9c6"
      },
      "execution_count": null,
      "outputs": [
        {
          "output_type": "stream",
          "name": "stdout",
          "text": [
            "['Bangal', 're']\n"
          ]
        }
      ]
    },
    {
      "cell_type": "code",
      "source": [
        "a = \"Welcome to\"\n",
        "b= \"Bangalore\"\n",
        "\n",
        "print(a +\" \"+ b)"
      ],
      "metadata": {
        "colab": {
          "base_uri": "https://localhost:8080/"
        },
        "id": "15K-p8pod7rb",
        "outputId": "67fb5213-2673-4e76-e5ce-0e1ef1e0bd64"
      },
      "execution_count": null,
      "outputs": [
        {
          "output_type": "stream",
          "name": "stdout",
          "text": [
            "Welcome to Bangalore\n"
          ]
        }
      ]
    },
    {
      "cell_type": "code",
      "source": [
        "file = open(\"datatest.txt\", \"w+\")"
      ],
      "metadata": {
        "id": "bpJKQkbveMt4"
      },
      "execution_count": null,
      "outputs": []
    },
    {
      "cell_type": "code",
      "source": [
        "for i in range(5):\n",
        "    file.write(\"Line number is %d\\r\\n\" % (i + 1))"
      ],
      "metadata": {
        "id": "2fJcH4KPeW4V"
      },
      "execution_count": null,
      "outputs": []
    },
    {
      "cell_type": "code",
      "source": [
        "file.close()"
      ],
      "metadata": {
        "id": "7yoHr0hUea8B"
      },
      "execution_count": null,
      "outputs": []
    },
    {
      "cell_type": "markdown",
      "source": [
        "appending the data file"
      ],
      "metadata": {
        "id": "5ClTeCtjevHT"
      }
    },
    {
      "cell_type": "code",
      "source": [
        "file= open(\"datatest.txt\", \"a+\")\n",
        "for i in range(3):\n",
        "    file.write(\"Appending Line number %d\\r\\n\" % (i+1))\n",
        "file.close()"
      ],
      "metadata": {
        "id": "trekiscleiws"
      },
      "execution_count": null,
      "outputs": []
    },
    {
      "cell_type": "markdown",
      "source": [
        "Reading the files"
      ],
      "metadata": {
        "id": "aAXJIPL0fMTN"
      }
    },
    {
      "cell_type": "code",
      "source": [
        "file= open(\"datatest.txt\", \"r\")\n",
        "if file.mode == 'r':\n",
        "    content=file.read()\n",
        "    print(content)\n"
      ],
      "metadata": {
        "colab": {
          "base_uri": "https://localhost:8080/"
        },
        "id": "7I8hW89Se-ps",
        "outputId": "f7d007a8-3074-4fda-bd7a-41d720fb956c"
      },
      "execution_count": null,
      "outputs": [
        {
          "output_type": "stream",
          "name": "stdout",
          "text": [
            "Line number is 1\n",
            "Line number is 2\n",
            "Line number is 3\n",
            "Line number is 4\n",
            "Line number is 5\n",
            "Appending Line number 1\n",
            "Appending Line number 1\n",
            "Appending Line number 2\n",
            "Appending Line number 3\n",
            "\n"
          ]
        }
      ]
    },
    {
      "cell_type": "markdown",
      "source": [
        "Text processing"
      ],
      "metadata": {
        "id": "N7ouJ392fiey"
      }
    },
    {
      "cell_type": "code",
      "source": [
        "import nltk\n",
        "\n",
        "import string\n",
        "import re"
      ],
      "metadata": {
        "id": "E3aGF55YfYkm"
      },
      "execution_count": null,
      "outputs": []
    },
    {
      "cell_type": "code",
      "source": [
        "#text lowercase\n",
        "def lowercase_text(text):\n",
        "  return text.lower()\n",
        "\n",
        "input_string=\"The Editorial Of Organiser weekly Further Noted that Regional Imbalance was Another Critical dimension\"\n",
        "\n",
        "lowercase_text(input_string)"
      ],
      "metadata": {
        "id": "1KC3_Rxtfpb0",
        "colab": {
          "base_uri": "https://localhost:8080/",
          "height": 36
        },
        "outputId": "929aa031-ad67-44fc-f63b-2298a2de8430"
      },
      "execution_count": 29,
      "outputs": [
        {
          "output_type": "execute_result",
          "data": {
            "text/plain": [
              "'the editorial of organiser weekly further noted that regional imbalance was another critical dimension'"
            ],
            "application/vnd.google.colaboratory.intrinsic+json": {
              "type": "string"
            }
          },
          "metadata": {},
          "execution_count": 29
        }
      ]
    },
    {
      "cell_type": "markdown",
      "source": [
        "Remove numbers"
      ],
      "metadata": {
        "id": "LBW0vBLJgLz2"
      }
    },
    {
      "cell_type": "code",
      "source": [
        "def remove_numbers(text):\n",
        "  result=re.sub(r'\\d+','',text)\n",
        "  return result\n",
        "\n",
        "  input_string=\"There are 10 boxes contains 6 ball each\"\n",
        "\n",
        "remove_numbers(input_string)"
      ],
      "metadata": {
        "colab": {
          "base_uri": "https://localhost:8080/",
          "height": 36
        },
        "id": "mSDIDGL8gHgO",
        "outputId": "402d5d56-0ef2-4c41-ee95-43f26cd777bc"
      },
      "execution_count": 36,
      "outputs": [
        {
          "output_type": "execute_result",
          "data": {
            "text/plain": [
              "'The Editorial Of Organiser weekly Further Noted that Regional Imbalance was Another Critical dimension'"
            ],
            "application/vnd.google.colaboratory.intrinsic+json": {
              "type": "string"
            }
          },
          "metadata": {},
          "execution_count": 36
        }
      ]
    },
    {
      "cell_type": "markdown",
      "source": [
        "convert numbers into words using inflect library"
      ],
      "metadata": {
        "id": "FBAyaWzfhHXR"
      }
    },
    {
      "cell_type": "code",
      "source": [
        "import inflect"
      ],
      "metadata": {
        "id": "2ts265HjgN-J"
      },
      "execution_count": 37,
      "outputs": []
    },
    {
      "cell_type": "code",
      "source": [
        "a=inflect.engine()\n",
        "#convert number into text\n",
        "def convert_numbers(text):\n",
        "\n",
        "  temp_string=text.split()\n",
        "  new_str=[]\n",
        "  for word in  temp_string:\n",
        "    if word.isdigit():\n",
        "      temp=a.number_to_words(word)\n",
        "      new_str.append(temp)\n",
        "\n",
        "  else:\n",
        "    new_str.append(word)\n",
        "\n",
        "    temp_string=\" \".join(new_str)\n",
        "\n",
        "\n",
        "  return temp_string\n",
        "\n",
        "input_string=\"There are 10 boxes contains 6 ball each\"\n",
        "convert_numbers(input_string)"
      ],
      "metadata": {
        "colab": {
          "base_uri": "https://localhost:8080/",
          "height": 36
        },
        "id": "khiEYS54hNC8",
        "outputId": "182db217-34dd-4fb9-d109-ce42e05cf01c"
      },
      "execution_count": 38,
      "outputs": [
        {
          "output_type": "execute_result",
          "data": {
            "text/plain": [
              "'ten six each'"
            ],
            "application/vnd.google.colaboratory.intrinsic+json": {
              "type": "string"
            }
          },
          "metadata": {},
          "execution_count": 38
        }
      ]
    },
    {
      "cell_type": "markdown",
      "source": [
        "**Remove punctuation**"
      ],
      "metadata": {
        "id": "CwafzHnBhYO7"
      }
    },
    {
      "cell_type": "code",
      "source": [
        "def rem_pun(text):\n",
        "  translator=str.maketrans(\"\",\" \",string.punctuation)\n",
        "  return text.translate(translator)\n",
        "\n",
        "  input_string=  \"If you’ve ever wondered, “Do I need a comma here?” or “Does punctuation go inside quotations?\"\n",
        "\n",
        "  rem_pun(input_string)\n",
        "string.punctuation\n",
        "\n",
        "\n"
      ],
      "metadata": {
        "colab": {
          "base_uri": "https://localhost:8080/",
          "height": 36
        },
        "id": "ouiZ9sfzhRLL",
        "outputId": "447948cc-665a-4c24-da85-fd1a70872c29"
      },
      "execution_count": 52,
      "outputs": [
        {
          "output_type": "execute_result",
          "data": {
            "text/plain": [
              "'!\"#$%&\\'()*+,-./:;<=>?@[\\\\]^_`{|}~'"
            ],
            "application/vnd.google.colaboratory.intrinsic+json": {
              "type": "string"
            }
          },
          "metadata": {},
          "execution_count": 52
        }
      ]
    },
    {
      "cell_type": "markdown",
      "source": [
        "Remove default stopwords"
      ],
      "metadata": {
        "id": "EkmYsFKmi9X3"
      }
    },
    {
      "cell_type": "code",
      "source": [
        "from nltk.corpus import stopwords\n",
        "from nltk.tokenize import word_tokenize\n"
      ],
      "metadata": {
        "id": "yXnrbhg_hfIa"
      },
      "execution_count": 53,
      "outputs": []
    },
    {
      "cell_type": "code",
      "source": [
        "nltk.download('stopwords')\n",
        "nltk.download('punkt')"
      ],
      "metadata": {
        "colab": {
          "base_uri": "https://localhost:8080/"
        },
        "id": "pyyCYM-gjEZf",
        "outputId": "2f34fabb-4fdd-4637-b2b4-480aa8b030c1"
      },
      "execution_count": 54,
      "outputs": [
        {
          "output_type": "stream",
          "name": "stderr",
          "text": [
            "[nltk_data] Downloading package stopwords to /root/nltk_data...\n",
            "[nltk_data]   Unzipping corpora/stopwords.zip.\n",
            "[nltk_data] Downloading package punkt to /root/nltk_data...\n",
            "[nltk_data]   Unzipping tokenizers/punkt.zip.\n"
          ]
        },
        {
          "output_type": "execute_result",
          "data": {
            "text/plain": [
              "True"
            ]
          },
          "metadata": {},
          "execution_count": 54
        }
      ]
    },
    {
      "cell_type": "code",
      "source": [
        "def remove_stopwords(text):\n",
        "    \"\"\"Removes stopwords from a text string.\n",
        "\n",
        "  Args:\n",
        "    text: The text string to remove stopwords from.\n",
        "\n",
        "  Returns:\n",
        "    A new text string with stopwords removed.\n",
        "  \"\"\"\n",
        "\n",
        "    stop_words = set(stopwords.words(\"english\"))\n",
        "    word_tokens = word_tokenize(text)\n",
        "\n",
        "\n",
        "    filtered_text = [word for word in word_tokens if word not in string.punctuation]\n",
        "    filtered_text = [word for word in filtered_text if word not in stop_words]\n",
        "\n",
        "    return filtered_text\n",
        "\n",
        "text = \"Data is the new oil. A.I is the last invention\"\n",
        "filtered_text = remove_stopwords(text)\n",
        "print(filtered_text)"
      ],
      "metadata": {
        "colab": {
          "base_uri": "https://localhost:8080/"
        },
        "id": "dp3L372wjH7p",
        "outputId": "f16a199b-2089-4dd7-f472-66571d1dbbf1"
      },
      "execution_count": 58,
      "outputs": [
        {
          "output_type": "stream",
          "name": "stdout",
          "text": [
            "['Data', 'new', 'oil', 'A.I', 'last', 'invention']\n"
          ]
        }
      ]
    },
    {
      "cell_type": "markdown",
      "source": [
        "Stemming"
      ],
      "metadata": {
        "id": "4q_14uhHkk36"
      }
    },
    {
      "cell_type": "code",
      "source": [
        "from nltk.stem.porter import PorterStemmer\n",
        "\n",
        "from nltk.tokenize import word_tokenize\n",
        "\n",
        "stemmer = PorterStemmer()\n",
        "\n",
        "#stem words in the list of tokenised words\n",
        "def stem_words(text):\n",
        "  word_tokens = word_tokenize(text)\n",
        "  stems = [stemmer.stem(word) for word in word_tokens]\n",
        "  return stems\n",
        "\n",
        "text = \"If someone offers you something you don’t need, deny it politely.\"\n",
        "stem_words(text)"
      ],
      "metadata": {
        "colab": {
          "base_uri": "https://localhost:8080/"
        },
        "id": "DbE0YWZCjcn6",
        "outputId": "65fecc05-b1b6-437b-a960-b8bc3e268ec1"
      },
      "execution_count": 60,
      "outputs": [
        {
          "output_type": "execute_result",
          "data": {
            "text/plain": [
              "['if',\n",
              " 'someon',\n",
              " 'offer',\n",
              " 'you',\n",
              " 'someth',\n",
              " 'you',\n",
              " 'don',\n",
              " '’',\n",
              " 't',\n",
              " 'need',\n",
              " ',',\n",
              " 'deni',\n",
              " 'it',\n",
              " 'polit',\n",
              " '.']"
            ]
          },
          "metadata": {},
          "execution_count": 60
        }
      ]
    },
    {
      "cell_type": "markdown",
      "source": [
        "Lemmatization"
      ],
      "metadata": {
        "id": "3m-HnG94lOHl"
      }
    },
    {
      "cell_type": "code",
      "source": [
        "from nltk.stem import wordnet\n",
        "from nltk.tokenize import word_tokenize\n",
        "\n",
        "def lemmatize_word(text):\n",
        "  \"\"\"Lemmatizes the text string.\n",
        "\n",
        "  Args:\n",
        "    text: The text string to lemmatize.\n",
        "\n",
        "  Returns:\n",
        "    A list of lemmatized words.\n",
        "  \"\"\"\n",
        "  # Download WordNet if not already downloaded\n",
        "  nltk.download('wordnet')\n",
        "\n",
        "  # Tokenize the text\n",
        "  word_tokens = word_tokenize(text)\n",
        "\n",
        "  # Lemmatize each word\n",
        "  lemmas = [wordnet.WordNetLemmatizer().lemmatize(word, pos='v') for word in word_tokens]\n",
        "\n",
        "  return lemmas\n",
        "\n",
        "# Example usage\n",
        "text =  \"If someone offers you something you don’t need, deny it politely.\"\n",
        "lemmatized_words = lemmatize_word(text)\n",
        "print(lemmatized_words)"
      ],
      "metadata": {
        "colab": {
          "base_uri": "https://localhost:8080/"
        },
        "id": "QV92GqC5kvCy",
        "outputId": "39f08dd4-5be8-4150-d36e-6ad2def99cc6"
      },
      "execution_count": 62,
      "outputs": [
        {
          "output_type": "stream",
          "name": "stdout",
          "text": [
            "['If', 'someone', 'offer', 'you', 'something', 'you', 'don', '’', 't', 'need', ',', 'deny', 'it', 'politely', '.']\n"
          ]
        },
        {
          "output_type": "stream",
          "name": "stderr",
          "text": [
            "[nltk_data] Downloading package wordnet to /root/nltk_data...\n",
            "[nltk_data]   Package wordnet is already up-to-date!\n"
          ]
        }
      ]
    },
    {
      "cell_type": "markdown",
      "source": [
        "Parts of speech tagging"
      ],
      "metadata": {
        "id": "dpdVU1NQlkNw"
      }
    },
    {
      "cell_type": "code",
      "source": [
        "from nltk.tokenize import word_tokenize\n",
        "from nltk import pos_tag\n",
        "\n",
        "# download averaged perceptron tagger\n",
        "nltk.download('averaged_perceptron_tagger')\n",
        "\n",
        "# convert text into word tokens with their tags\n",
        "def pos_tagg(text):\n",
        "    word_tokens = word_tokenize(text)\n",
        "    return pos_tag(word_tokens)\n",
        "\n",
        "# Example usage\n",
        "pos_tagg(\"Are you afraid of something?\")"
      ],
      "metadata": {
        "colab": {
          "base_uri": "https://localhost:8080/"
        },
        "id": "fqrMWPvulWXo",
        "outputId": "2e8809a5-9631-472c-ede7-9243ed44602e"
      },
      "execution_count": 63,
      "outputs": [
        {
          "output_type": "stream",
          "name": "stderr",
          "text": [
            "[nltk_data] Downloading package averaged_perceptron_tagger to\n",
            "[nltk_data]     /root/nltk_data...\n",
            "[nltk_data]   Unzipping taggers/averaged_perceptron_tagger.zip.\n"
          ]
        },
        {
          "output_type": "execute_result",
          "data": {
            "text/plain": [
              "[('Are', 'NNP'),\n",
              " ('you', 'PRP'),\n",
              " ('afraid', 'IN'),\n",
              " ('of', 'IN'),\n",
              " ('something', 'NN'),\n",
              " ('?', '.')]"
            ]
          },
          "metadata": {},
          "execution_count": 63
        }
      ]
    },
    {
      "cell_type": "markdown",
      "source": [
        "Named entity recognition"
      ],
      "metadata": {
        "id": "KAjFdQ1ql9Rd"
      }
    },
    {
      "cell_type": "code",
      "source": [
        "from nltk.tokenize import word_tokenize\n",
        "from nltk import pos_tag, ne_chunk\n",
        "nltk.download('maxent_ne_chunker')\n",
        "nltk.download('words')\n",
        "\n",
        "def ner(text):                    #tokenize the text\n",
        "  word_tokens = word_tokenize(text)\n",
        "\n",
        "  #pos tagging of words\n",
        "  word_pos = pos_tag(word_tokens)\n",
        "\n",
        "  #tree of word entities\n",
        "  print(ne_chunk(word_pos))\n",
        "\n",
        "text = 'Brain Lara scored the highest 400 runs in a test match which played in between WI and England.'\n",
        "ner(text)"
      ],
      "metadata": {
        "colab": {
          "base_uri": "https://localhost:8080/"
        },
        "id": "hO07WLZnlrQF",
        "outputId": "039789c0-224d-4acb-8fa4-0df0711dba17"
      },
      "execution_count": 64,
      "outputs": [
        {
          "output_type": "stream",
          "name": "stderr",
          "text": [
            "[nltk_data] Downloading package maxent_ne_chunker to\n",
            "[nltk_data]     /root/nltk_data...\n",
            "[nltk_data]   Unzipping chunkers/maxent_ne_chunker.zip.\n",
            "[nltk_data] Downloading package words to /root/nltk_data...\n",
            "[nltk_data]   Unzipping corpora/words.zip.\n"
          ]
        },
        {
          "output_type": "stream",
          "name": "stdout",
          "text": [
            "(S\n",
            "  (PERSON Brain/NNP)\n",
            "  (PERSON Lara/NNP)\n",
            "  scored/VBD\n",
            "  the/DT\n",
            "  highest/JJS\n",
            "  400/CD\n",
            "  runs/NNS\n",
            "  in/IN\n",
            "  a/DT\n",
            "  test/NN\n",
            "  match/NN\n",
            "  which/WDT\n",
            "  played/VBD\n",
            "  in/IN\n",
            "  between/IN\n",
            "  (ORGANIZATION WI/NNP)\n",
            "  and/CC\n",
            "  (GPE England/NNP)\n",
            "  ./.)\n"
          ]
        }
      ]
    },
    {
      "cell_type": "markdown",
      "source": [
        "Regex"
      ],
      "metadata": {
        "id": "L6_LGq7Nmaqj"
      }
    },
    {
      "cell_type": "code",
      "source": [
        "import re\n",
        "\n",
        "sent = \"dataset, Data is a new fuel\"\n",
        "r2 = re.findall(r\"^\\w+\", sent)\n",
        "\n",
        "print(r2)\n"
      ],
      "metadata": {
        "colab": {
          "base_uri": "https://localhost:8080/"
        },
        "id": "TOASyy0TmFzV",
        "outputId": "d9461253-5504-42ed-d8b0-c6dc33ac5c80"
      },
      "execution_count": 65,
      "outputs": [
        {
          "output_type": "stream",
          "name": "stdout",
          "text": [
            "['dataset']\n"
          ]
        }
      ]
    },
    {
      "cell_type": "code",
      "source": [
        "import re\n",
        "\n",
        "sent = \"dataset, Data is a new fuel\"\n",
        "r2 = re.findall(r\"\\w+\", sent)  # Find all word characters at the beginning of the string\n",
        "\n",
        "print(r2)\n"
      ],
      "metadata": {
        "colab": {
          "base_uri": "https://localhost:8080/"
        },
        "id": "9JWLilxSmgXL",
        "outputId": "05ec70c4-60e2-424b-8c20-2fbd27a97a53"
      },
      "execution_count": 66,
      "outputs": [
        {
          "output_type": "stream",
          "name": "stdout",
          "text": [
            "['dataset', 'Data', 'is', 'a', 'new', 'fuel']\n"
          ]
        }
      ]
    },
    {
      "cell_type": "code",
      "source": [
        "import re\n",
        "\n",
        "print((re.split(r'\\s', 'We splited this sentence')))\n",
        "\n",
        "\n"
      ],
      "metadata": {
        "colab": {
          "base_uri": "https://localhost:8080/"
        },
        "id": "-tD6y8y7mq7o",
        "outputId": "dc56106c-93ed-4a44-9d05-1b50d8605755"
      },
      "execution_count": 67,
      "outputs": [
        {
          "output_type": "stream",
          "name": "stdout",
          "text": [
            "['We', 'splited', 'this', 'sentence']\n"
          ]
        }
      ]
    },
    {
      "cell_type": "code",
      "source": [
        "import re\n",
        "\n",
        "print((re.split(r's', 'We splited this sentence')))\n",
        "\n"
      ],
      "metadata": {
        "colab": {
          "base_uri": "https://localhost:8080/"
        },
        "id": "2nCJ8WNgm1HI",
        "outputId": "23367abe-a762-4629-b266-cdde79ca873f"
      },
      "execution_count": 68,
      "outputs": [
        {
          "output_type": "stream",
          "name": "stdout",
          "text": [
            "['We ', 'plited thi', ' ', 'entence']\n"
          ]
        }
      ]
    },
    {
      "cell_type": "code",
      "source": [
        "import re\n",
        "\n",
        "lists = ['icecream images', 'i immitated', 'inner peace']\n",
        "\n",
        "for i in lists:\n",
        "    q = re.match(\"(i\\w+)\\W(i\\w+)\", i)\n",
        "\n",
        "    if q:\n",
        "        print(q.groups())\n"
      ],
      "metadata": {
        "colab": {
          "base_uri": "https://localhost:8080/"
        },
        "id": "FHXj7UFGm4rY",
        "outputId": "c14a1da5-29b4-4c09-c015-693ef749ed9d"
      },
      "execution_count": 69,
      "outputs": [
        {
          "output_type": "stream",
          "name": "stdout",
          "text": [
            "('icecream', 'images')\n"
          ]
        }
      ]
    },
    {
      "cell_type": "code",
      "source": [
        "import re\n",
        "\n",
        "pattern = [\"playing\", \"dataset\"]\n",
        "text = \"Raju is playing outside.\"\n",
        "\n",
        "for p in pattern:\n",
        "    print(\"You're looking for '%s' in '%s'\" % (p, text), end='')\n",
        "\n",
        "    if re.search(p, text):\n",
        "        print('Found match!')\n",
        "    else:\n",
        "        print(\"no match found!\")\n"
      ],
      "metadata": {
        "colab": {
          "base_uri": "https://localhost:8080/"
        },
        "id": "xa_LTHK2m-JW",
        "outputId": "676f5d84-5f66-44e2-f73e-2588ab952b0e"
      },
      "execution_count": 70,
      "outputs": [
        {
          "output_type": "stream",
          "name": "stdout",
          "text": [
            "You're looking for 'playing' in 'Raju is playing outside.'Found match!\n",
            "You're looking for 'dataset' in 'Raju is playing outside.'no match found!\n"
          ]
        }
      ]
    },
    {
      "cell_type": "code",
      "source": [
        "import re\n",
        "\n",
        "kgf = \"Abc@gmail.com, XYX@gmail.com, lmn@gmail.com, efg@gmail.com\"\n",
        "\n",
        "emails = re.findall(r' [\\w\\.]+@[\\w\\.]+', kgf)\n",
        "\n",
        "for e in emails:\n",
        "    print(e)"
      ],
      "metadata": {
        "colab": {
          "base_uri": "https://localhost:8080/"
        },
        "id": "MOOw_uT_nB-s",
        "outputId": "a18d7018-6ae2-490d-8aee-da487bedab37"
      },
      "execution_count": 71,
      "outputs": [
        {
          "output_type": "stream",
          "name": "stdout",
          "text": [
            " XYX@gmail.com\n",
            " lmn@gmail.com\n",
            " efg@gmail.com\n"
          ]
        }
      ]
    },
    {
      "cell_type": "code",
      "source": [],
      "metadata": {
        "id": "QGi3Eo76nGhL"
      },
      "execution_count": null,
      "outputs": []
    }
  ]
}