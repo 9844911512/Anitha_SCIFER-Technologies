{
 "cells": [
  {
   "cell_type": "code",
   "execution_count": 1,
   "id": "1a1191a7",
   "metadata": {},
   "outputs": [],
   "source": [
    "def salary_incr(salary):\n",
    "    if salary<=9000:\n",
    "        (salary + 1000)\n",
    "    else:\n",
    "        (salary)"
   ]
  },
  {
   "cell_type": "code",
   "execution_count": 2,
   "id": "733d8ac0",
   "metadata": {},
   "outputs": [
    {
     "name": "stdout",
     "output_type": "stream",
     "text": [
      "Your new salary None\n"
     ]
    }
   ],
   "source": [
    "print(\"Your new salary\",salary_incr(5000))"
   ]
  },
  {
   "cell_type": "code",
   "execution_count": 3,
   "id": "34e9ec93",
   "metadata": {},
   "outputs": [],
   "source": [
    "def incr_salary(salary):\n",
    "    if salary<=8000:\n",
    "        return (salary+1000)\n",
    "    else:\n",
    "        return(salary)"
   ]
  },
  {
   "cell_type": "code",
   "execution_count": 4,
   "id": "d0c6df50",
   "metadata": {},
   "outputs": [
    {
     "data": {
      "text/plain": [
       "6000"
      ]
     },
     "execution_count": 4,
     "metadata": {},
     "output_type": "execute_result"
    }
   ],
   "source": [
    "incr_salary(5000)"
   ]
  },
  {
   "cell_type": "code",
   "execution_count": 5,
   "id": "59b93ea8",
   "metadata": {},
   "outputs": [],
   "source": [
    "def my_marks(science,maths,english):\n",
    "    return (science + maths + english)"
   ]
  },
  {
   "cell_type": "code",
   "execution_count": 6,
   "id": "60e94427",
   "metadata": {},
   "outputs": [
    {
     "name": "stdout",
     "output_type": "stream",
     "text": [
      "228 You Have Got\n"
     ]
    }
   ],
   "source": [
    "print(my_marks(85,69,74),\"You Have Got\")"
   ]
  },
  {
   "cell_type": "code",
   "execution_count": 7,
   "id": "48f80bcb",
   "metadata": {},
   "outputs": [],
   "source": [
    "add_num=lambda y:y+30"
   ]
  },
  {
   "cell_type": "code",
   "execution_count": 8,
   "id": "fb2c1aac",
   "metadata": {},
   "outputs": [
    {
     "data": {
      "text/plain": [
       "70"
      ]
     },
     "execution_count": 8,
     "metadata": {},
     "output_type": "execute_result"
    }
   ],
   "source": [
    "add_num(40)"
   ]
  },
  {
   "cell_type": "code",
   "execution_count": 9,
   "id": "82bf9deb",
   "metadata": {},
   "outputs": [],
   "source": [
    "multi_num=lambda x,y:x*y"
   ]
  },
  {
   "cell_type": "code",
   "execution_count": 10,
   "id": "58e492f0",
   "metadata": {},
   "outputs": [
    {
     "data": {
      "text/plain": [
       "8"
      ]
     },
     "execution_count": 10,
     "metadata": {},
     "output_type": "execute_result"
    }
   ],
   "source": [
    "multi_num(4,2)"
   ]
  },
  {
   "cell_type": "code",
   "execution_count": null,
   "id": "4c426115",
   "metadata": {},
   "outputs": [],
   "source": []
  }
 ],
 "metadata": {
  "kernelspec": {
   "display_name": "Python 3 (ipykernel)",
   "language": "python",
   "name": "python3"
  },
  "language_info": {
   "codemirror_mode": {
    "name": "ipython",
    "version": 3
   },
   "file_extension": ".py",
   "mimetype": "text/x-python",
   "name": "python",
   "nbconvert_exporter": "python",
   "pygments_lexer": "ipython3",
   "version": "3.11.5"
  }
 },
 "nbformat": 4,
 "nbformat_minor": 5
}
