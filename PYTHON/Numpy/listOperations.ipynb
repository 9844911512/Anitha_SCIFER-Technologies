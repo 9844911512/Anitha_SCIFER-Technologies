{
  "nbformat": 4,
  "nbformat_minor": 0,
  "metadata": {
    "colab": {
      "provenance": []
    },
    "kernelspec": {
      "name": "python3",
      "display_name": "Python 3"
    },
    "language_info": {
      "name": "python"
    }
  },
  "cells": [
    {
      "cell_type": "code",
      "execution_count": null,
      "metadata": {
        "id": "54fr8awojUWE"
      },
      "outputs": [],
      "source": [
        "A1=[2,4,8,10,12,14,16,18,20,22]"
      ]
    },
    {
      "cell_type": "code",
      "source": [
        "A2=[1,3,5,7,9,11,13,15,17,19]"
      ],
      "metadata": {
        "id": "0H3i1TyNn-Ll"
      },
      "execution_count": null,
      "outputs": []
    },
    {
      "cell_type": "code",
      "source": [
        "print(A1)"
      ],
      "metadata": {
        "colab": {
          "base_uri": "https://localhost:8080/"
        },
        "id": "X_qIWM2S_a6P",
        "outputId": "5d5c32bb-c169-4119-f33e-67e309d129ac"
      },
      "execution_count": null,
      "outputs": [
        {
          "output_type": "stream",
          "name": "stdout",
          "text": [
            "[2, 4, 8, 10, 12, 14, 16, 18, 20, 22]\n"
          ]
        }
      ]
    },
    {
      "cell_type": "code",
      "source": [
        "print(A2)"
      ],
      "metadata": {
        "colab": {
          "base_uri": "https://localhost:8080/"
        },
        "id": "VZ5QJ2FCJ6NH",
        "outputId": "d8b02668-c535-4645-bd74-4d782b19b9ba"
      },
      "execution_count": null,
      "outputs": [
        {
          "output_type": "stream",
          "name": "stdout",
          "text": [
            "[1, 3, 5, 7, 9, 11, 13, 15, 17, 19]\n"
          ]
        }
      ]
    },
    {
      "cell_type": "code",
      "source": [
        "A1.insert(2,24)"
      ],
      "metadata": {
        "id": "JwPSXc76J-0E"
      },
      "execution_count": null,
      "outputs": []
    },
    {
      "cell_type": "code",
      "source": [
        "print(A1)"
      ],
      "metadata": {
        "colab": {
          "base_uri": "https://localhost:8080/"
        },
        "id": "jfGf_OrZKR_7",
        "outputId": "560de33d-2e27-446d-8f7c-67f936458bbf"
      },
      "execution_count": null,
      "outputs": [
        {
          "output_type": "stream",
          "name": "stdout",
          "text": [
            "[2, 4, 24, 8, 10, 12, 14, 16, 18, 20, 22]\n"
          ]
        }
      ]
    },
    {
      "cell_type": "code",
      "source": [
        "A1.pop(2)"
      ],
      "metadata": {
        "colab": {
          "base_uri": "https://localhost:8080/"
        },
        "id": "zOhJcaiNKeUj",
        "outputId": "fd5045a6-7e0e-435f-8e93-212a90a0f1fe"
      },
      "execution_count": null,
      "outputs": [
        {
          "output_type": "execute_result",
          "data": {
            "text/plain": [
              "24"
            ]
          },
          "metadata": {},
          "execution_count": 14
        }
      ]
    },
    {
      "cell_type": "code",
      "source": [
        "A2.append(21)"
      ],
      "metadata": {
        "id": "SRnekN-_MM4i"
      },
      "execution_count": null,
      "outputs": []
    },
    {
      "cell_type": "code",
      "source": [
        "print(A2)"
      ],
      "metadata": {
        "id": "IHRqhZ39MTXk",
        "outputId": "d482fdbd-873e-4d6b-b507-fcdbec37ccc2",
        "colab": {
          "base_uri": "https://localhost:8080/"
        }
      },
      "execution_count": null,
      "outputs": [
        {
          "output_type": "stream",
          "name": "stdout",
          "text": [
            "[1, 3, 5, 7, 9, 11, 13, 15, 17, 19, 21]\n"
          ]
        }
      ]
    }
  ]
}