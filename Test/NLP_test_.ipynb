{
  "nbformat": 4,
  "nbformat_minor": 0,
  "metadata": {
    "colab": {
      "provenance": []
    },
    "kernelspec": {
      "name": "python3",
      "display_name": "Python 3"
    },
    "language_info": {
      "name": "python"
    }
  },
  "cells": [
    {
      "cell_type": "code",
      "execution_count": 3,
      "metadata": {
        "id": "yXXjnlMZklq7"
      },
      "outputs": [],
      "source": [
        "import nltk\n",
        "from nltk.tokenize import word_tokenize\n",
        "from nltk.tokenize import sent_tokenize\n",
        "from textblob import TextBlob\n",
        "from textblob import Word\n"
      ]
    },
    {
      "cell_type": "code",
      "source": [
        "!python -mtextblob.download_corpora"
      ],
      "metadata": {
        "colab": {
          "base_uri": "https://localhost:8080/"
        },
        "id": "jUIMaF6huvYs",
        "outputId": "ce998b87-70e7-4f66-f8ae-e86cc78852e7"
      },
      "execution_count": 8,
      "outputs": [
        {
          "output_type": "stream",
          "name": "stdout",
          "text": [
            "[nltk_data] Downloading package brown to /root/nltk_data...\n",
            "[nltk_data]   Unzipping corpora/brown.zip.\n",
            "[nltk_data] Downloading package punkt to /root/nltk_data...\n",
            "[nltk_data]   Unzipping tokenizers/punkt.zip.\n",
            "[nltk_data] Downloading package wordnet to /root/nltk_data...\n",
            "[nltk_data] Downloading package averaged_perceptron_tagger to\n",
            "[nltk_data]     /root/nltk_data...\n",
            "[nltk_data]   Unzipping taggers/averaged_perceptron_tagger.zip.\n",
            "[nltk_data] Downloading package conll2000 to /root/nltk_data...\n",
            "[nltk_data]   Unzipping corpora/conll2000.zip.\n",
            "[nltk_data] Downloading package movie_reviews to /root/nltk_data...\n",
            "[nltk_data]   Unzipping corpora/movie_reviews.zip.\n",
            "Finished.\n"
          ]
        }
      ]
    },
    {
      "cell_type": "code",
      "source": [
        "sent=TextBlob(\"In the rugged terrain of the Western Ghats, Shivaji Maharaj, the founder of the Maratha Empire, was preparing for another day of strategic planning and military campaigns. Known for his innovative tactics and leadership, Shivaji Maharaj was determined to strengthen his kingdom and protect his people from external threats.\"\n",
        "\n",
        "\"Shivaji Maharaj’s stronghold was the Raigad Fort, a formidable fortress perched high on a hilltop. The fort's strategic location allowed him to oversee the surrounding lands and defend against invaders. His trusted advisors and generals would gather in the fort's grand hall to discuss plans, share intelligence, and make critical decisions for the empire's expansion.\"\n",
        "\n",
        "\"The evenings in Shivaji Maharaj's court were vibrant with activity. He would host feasts and gatherings to bolster the morale of his soldiers and celebrate victories. During these events, Shivaji Maharaj would address his people, sharing his vision for a prosperous and united Maratha Empire. His leadership inspired loyalty and courage among his subjects.\"\n",
        "\n",
        "\"As night fell, Shivaji Maharaj would retire to his quarters, reflecting on the day's achievements and preparing for the challenges ahead. His dreams were filled with visions of a strong and resilient empire, where justice and valor would prevail.\")\n"
      ],
      "metadata": {
        "id": "asJcQNsUlDUb"
      },
      "execution_count": 9,
      "outputs": []
    },
    {
      "cell_type": "code",
      "source": [
        "sent.sentences"
      ],
      "metadata": {
        "colab": {
          "base_uri": "https://localhost:8080/"
        },
        "id": "FYhW5N6GtvEd",
        "outputId": "daff074f-274e-4d35-ffcd-b50f824e37e0"
      },
      "execution_count": 10,
      "outputs": [
        {
          "output_type": "execute_result",
          "data": {
            "text/plain": [
              "[Sentence(\"In the rugged terrain of the Western Ghats, Shivaji Maharaj, the founder of the Maratha Empire, was preparing for another day of strategic planning and military campaigns.\"),\n",
              " Sentence(\"Known for his innovative tactics and leadership, Shivaji Maharaj was determined to strengthen his kingdom and protect his people from external threats.Shivaji Maharaj’s stronghold was the Raigad Fort, a formidable fortress perched high on a hilltop.\"),\n",
              " Sentence(\"The fort's strategic location allowed him to oversee the surrounding lands and defend against invaders.\"),\n",
              " Sentence(\"His trusted advisors and generals would gather in the fort's grand hall to discuss plans, share intelligence, and make critical decisions for the empire's expansion.The evenings in Shivaji Maharaj's court were vibrant with activity.\"),\n",
              " Sentence(\"He would host feasts and gatherings to bolster the morale of his soldiers and celebrate victories.\"),\n",
              " Sentence(\"During these events, Shivaji Maharaj would address his people, sharing his vision for a prosperous and united Maratha Empire.\"),\n",
              " Sentence(\"His leadership inspired loyalty and courage among his subjects.As night fell, Shivaji Maharaj would retire to his quarters, reflecting on the day's achievements and preparing for the challenges ahead.\"),\n",
              " Sentence(\"His dreams were filled with visions of a strong and resilient empire, where justice and valor would prevail.\")]"
            ]
          },
          "metadata": {},
          "execution_count": 10
        }
      ]
    },
    {
      "cell_type": "code",
      "source": [
        "sent.words"
      ],
      "metadata": {
        "colab": {
          "base_uri": "https://localhost:8080/"
        },
        "id": "vq7kCAIkuimR",
        "outputId": "9e41b946-b189-44eb-c3d1-6e7b0aa02087"
      },
      "execution_count": 11,
      "outputs": [
        {
          "output_type": "execute_result",
          "data": {
            "text/plain": [
              "WordList(['In', 'the', 'rugged', 'terrain', 'of', 'the', 'Western', 'Ghats', 'Shivaji', 'Maharaj', 'the', 'founder', 'of', 'the', 'Maratha', 'Empire', 'was', 'preparing', 'for', 'another', 'day', 'of', 'strategic', 'planning', 'and', 'military', 'campaigns', 'Known', 'for', 'his', 'innovative', 'tactics', 'and', 'leadership', 'Shivaji', 'Maharaj', 'was', 'determined', 'to', 'strengthen', 'his', 'kingdom', 'and', 'protect', 'his', 'people', 'from', 'external', 'threats.Shivaji', 'Maharaj', '’', 's', 'stronghold', 'was', 'the', 'Raigad', 'Fort', 'a', 'formidable', 'fortress', 'perched', 'high', 'on', 'a', 'hilltop', 'The', 'fort', \"'s\", 'strategic', 'location', 'allowed', 'him', 'to', 'oversee', 'the', 'surrounding', 'lands', 'and', 'defend', 'against', 'invaders', 'His', 'trusted', 'advisors', 'and', 'generals', 'would', 'gather', 'in', 'the', 'fort', \"'s\", 'grand', 'hall', 'to', 'discuss', 'plans', 'share', 'intelligence', 'and', 'make', 'critical', 'decisions', 'for', 'the', 'empire', \"'s\", 'expansion.The', 'evenings', 'in', 'Shivaji', 'Maharaj', \"'s\", 'court', 'were', 'vibrant', 'with', 'activity', 'He', 'would', 'host', 'feasts', 'and', 'gatherings', 'to', 'bolster', 'the', 'morale', 'of', 'his', 'soldiers', 'and', 'celebrate', 'victories', 'During', 'these', 'events', 'Shivaji', 'Maharaj', 'would', 'address', 'his', 'people', 'sharing', 'his', 'vision', 'for', 'a', 'prosperous', 'and', 'united', 'Maratha', 'Empire', 'His', 'leadership', 'inspired', 'loyalty', 'and', 'courage', 'among', 'his', 'subjects.As', 'night', 'fell', 'Shivaji', 'Maharaj', 'would', 'retire', 'to', 'his', 'quarters', 'reflecting', 'on', 'the', 'day', \"'s\", 'achievements', 'and', 'preparing', 'for', 'the', 'challenges', 'ahead', 'His', 'dreams', 'were', 'filled', 'with', 'visions', 'of', 'a', 'strong', 'and', 'resilient', 'empire', 'where', 'justice', 'and', 'valor', 'would', 'prevail'])"
            ]
          },
          "metadata": {},
          "execution_count": 11
        }
      ]
    },
    {
      "cell_type": "code",
      "source": [
        "import string\n",
        "import re"
      ],
      "metadata": {
        "id": "6l1SHy7iu2q2"
      },
      "execution_count": 12,
      "outputs": []
    },
    {
      "cell_type": "code",
      "source": [
        "def upper_case(text):\n",
        "    return text.upper()\n",
        "\n",
        "input_str=\"In the rugged terrain of the Western Ghats, Shivaji Maharaj, the founder of the Maratha Empire, was preparing for another day of strategic planning and military campaigns.\"\n",
        "\n",
        "upper_case(input_str)\n",
        ""
      ],
      "metadata": {
        "colab": {
          "base_uri": "https://localhost:8080/",
          "height": 36
        },
        "id": "gFnRFh68vYpr",
        "outputId": "8aa8e86b-33bb-4254-a7a3-a4b850f68372"
      },
      "execution_count": 15,
      "outputs": [
        {
          "output_type": "execute_result",
          "data": {
            "text/plain": [
              "'IN THE RUGGED TERRAIN OF THE WESTERN GHATS, SHIVAJI MAHARAJ, THE FOUNDER OF THE MARATHA EMPIRE, WAS PREPARING FOR ANOTHER DAY OF STRATEGIC PLANNING AND MILITARY CAMPAIGNS.'"
            ],
            "application/vnd.google.colaboratory.intrinsic+json": {
              "type": "string"
            }
          },
          "metadata": {},
          "execution_count": 15
        }
      ]
    },
    {
      "cell_type": "code",
      "source": [
        "def lower_case(text):\n",
        "    return text.lower()\n",
        "\n",
        "input_str=\"IN THE RUGGED TERRAIN OF THE WESTERN GHATS, SHIVAJI MAHARAJ, THE FOUNDER OF THE MARATHA EMPIRE, WAS PREPARING FOR ANOTHER DAY OF STRATEGIC PLANNING AND MILITARY CAMPAIGNS.\"\n",
        "\n",
        "lower_case(input_str)"
      ],
      "metadata": {
        "colab": {
          "base_uri": "https://localhost:8080/",
          "height": 36
        },
        "id": "MpvW3CglxFyx",
        "outputId": "28668fd2-df74-4c5f-d8de-7b289d46ef56"
      },
      "execution_count": 16,
      "outputs": [
        {
          "output_type": "execute_result",
          "data": {
            "text/plain": [
              "'in the rugged terrain of the western ghats, shivaji maharaj, the founder of the maratha empire, was preparing for another day of strategic planning and military campaigns.'"
            ],
            "application/vnd.google.colaboratory.intrinsic+json": {
              "type": "string"
            }
          },
          "metadata": {},
          "execution_count": 16
        }
      ]
    },
    {
      "cell_type": "code",
      "source": [
        "def rem_pun(text):\n",
        "    translator=str.maketrans(\",\",string.punctuation)\n",
        "    return text.translate(translator)\n",
        "\n",
        "\n",
        "    input_string=(\"In the rugged terrain of the Western Ghats, Shivaji Maharaj, the founder of the Maratha Empire, was preparing for another day of strategic planning and military campaigns. Known for his innovative tactics and leadership, Shivaji Maharaj was determined to strengthen his kingdom and protect his people from external threats.\"\n",
        "                \"Shivaji Maharaj’s stronghold was the Raigad Fort, a formidable fortress perched high on a hilltop. The fort's strategic location allowed him to oversee the surrounding lands and defend against invaders. His trusted advisors and generals would gather in the fort's grand hall to discuss plans, share intelligence, and make critical decisions for the empire's expansion.\"\n",
        "                \"The evenings in Shivaji Maharaj's court were vibrant with activity. He would host feasts and gatherings to bolster the morale of his soldiers and celebrate victories. During these events, Shivaji Maharaj would address his people, sharing his vision for a prosperous and united Maratha Empire. His leadership inspired loyalty and courage among his subjects.\"\n",
        "                \"As night fell, Shivaji Maharaj would retire to his quarters, reflecting on the day's achievements and preparing for the challenges ahead. His dreams were filled with visions of a strong and resilient empire, where justice and valor would prevail.\")\n",
        "    result= rem_pun(input_string)\n",
        "    print(result)\n",
        "\n",
        "\n"
      ],
      "metadata": {
        "id": "B15_s3KbxppM"
      },
      "execution_count": 27,
      "outputs": []
    },
    {
      "cell_type": "code",
      "source": [
        "string.punctuation"
      ],
      "metadata": {
        "colab": {
          "base_uri": "https://localhost:8080/",
          "height": 36
        },
        "id": "7-cenpaFzatr",
        "outputId": "0f9df2bd-0aff-423c-ef83-2f051c94179c"
      },
      "execution_count": 20,
      "outputs": [
        {
          "output_type": "execute_result",
          "data": {
            "text/plain": [
              "'!\"#$%&\\'()*+,-./:;<=>?@[\\\\]^_`{|}~'"
            ],
            "application/vnd.google.colaboratory.intrinsic+json": {
              "type": "string"
            }
          },
          "metadata": {},
          "execution_count": 20
        }
      ]
    },
    {
      "cell_type": "code",
      "source": [
        "from nltk.corpus import stopwords\n",
        "from nltk.tokenize import word_tokenize"
      ],
      "metadata": {
        "id": "6awuznYtzwOY"
      },
      "execution_count": 28,
      "outputs": []
    },
    {
      "cell_type": "code",
      "source": [
        "nltk.download('stopwords')\n",
        "nltk.download('punkt')"
      ],
      "metadata": {
        "colab": {
          "base_uri": "https://localhost:8080/"
        },
        "id": "R_9AwjCG1C6l",
        "outputId": "b61fc272-e763-4e57-d540-9ab57fcf9676"
      },
      "execution_count": 29,
      "outputs": [
        {
          "output_type": "stream",
          "name": "stderr",
          "text": [
            "[nltk_data] Downloading package stopwords to /root/nltk_data...\n",
            "[nltk_data]   Unzipping corpora/stopwords.zip.\n",
            "[nltk_data] Downloading package punkt to /root/nltk_data...\n",
            "[nltk_data]   Package punkt is already up-to-date!\n"
          ]
        },
        {
          "output_type": "execute_result",
          "data": {
            "text/plain": [
              "True"
            ]
          },
          "metadata": {},
          "execution_count": 29
        }
      ]
    },
    {
      "cell_type": "code",
      "source": [
        "def remove_stopwords(text):\n",
        "  stop_words = set(stopwords.words(\"english\"))\n",
        "  word_tokens = word_tokenize(text)\n",
        "\n",
        "  filtered_text = [word for word in word_tokens if word not in string.punctuation]\n",
        "  filtered_text = [word for word in filtered_text if word not in stop_words]\n",
        "  return filtered_text\n",
        "\n",
        "text = (\"In the rugged terrain of the Western Ghats, Shivaji Maharaj, the founder of the Maratha Empire, was preparing for another day of strategic planning and military campaigns. Known for his innovative tactics and leadership, Shivaji Maharaj was determined to strengthen his kingdom and protect his people from external threats.\"\n",
        "      \"Shivaji Maharaj’s stronghold was the Raigad Fort, a formidable fortress perched high on a hilltop. The fort's strategic location allowed him to oversee the surrounding lands and defend against invaders. His trusted advisors and generals would gather in the fort's grand hall to discuss plans, share intelligence, and make critical decisions for the empire's expansion.\"\n",
        "      \"The evenings in Shivaji Maharaj's court were vibrant with activity. He would host feasts and gatherings to bolster the morale of his soldiers and celebrate victories. During these events, Shivaji Maharaj would address his people, sharing his vision for a prosperous and united Maratha Empire. His leadership inspired loyalty and courage among his subjects.\"\n",
        "      \"As night fell, Shivaji Maharaj would retire to his quarters, reflecting on the day's achievements and preparing for the challenges ahead. His dreams were filled with visions of a strong and resilient empire, where justice and valor would prevail.\")\n",
        "\n",
        "filtered_text = remove_stopwords(text)\n",
        "print(filtered_text)"
      ],
      "metadata": {
        "colab": {
          "base_uri": "https://localhost:8080/"
        },
        "id": "gqAtNdPu1HT2",
        "outputId": "e85dd290-304e-4e73-b450-c3c49f77728d"
      },
      "execution_count": 30,
      "outputs": [
        {
          "output_type": "stream",
          "name": "stdout",
          "text": [
            "['In', 'rugged', 'terrain', 'Western', 'Ghats', 'Shivaji', 'Maharaj', 'founder', 'Maratha', 'Empire', 'preparing', 'another', 'day', 'strategic', 'planning', 'military', 'campaigns', 'Known', 'innovative', 'tactics', 'leadership', 'Shivaji', 'Maharaj', 'determined', 'strengthen', 'kingdom', 'protect', 'people', 'external', 'threats.Shivaji', 'Maharaj', '’', 'stronghold', 'Raigad', 'Fort', 'formidable', 'fortress', 'perched', 'high', 'hilltop', 'The', 'fort', \"'s\", 'strategic', 'location', 'allowed', 'oversee', 'surrounding', 'lands', 'defend', 'invaders', 'His', 'trusted', 'advisors', 'generals', 'would', 'gather', 'fort', \"'s\", 'grand', 'hall', 'discuss', 'plans', 'share', 'intelligence', 'make', 'critical', 'decisions', 'empire', \"'s\", 'expansion.The', 'evenings', 'Shivaji', 'Maharaj', \"'s\", 'court', 'vibrant', 'activity', 'He', 'would', 'host', 'feasts', 'gatherings', 'bolster', 'morale', 'soldiers', 'celebrate', 'victories', 'During', 'events', 'Shivaji', 'Maharaj', 'would', 'address', 'people', 'sharing', 'vision', 'prosperous', 'united', 'Maratha', 'Empire', 'His', 'leadership', 'inspired', 'loyalty', 'courage', 'among', 'subjects.As', 'night', 'fell', 'Shivaji', 'Maharaj', 'would', 'retire', 'quarters', 'reflecting', 'day', \"'s\", 'achievements', 'preparing', 'challenges', 'ahead', 'His', 'dreams', 'filled', 'visions', 'strong', 'resilient', 'empire', 'justice', 'valor', 'would', 'prevail']\n"
          ]
        }
      ]
    },
    {
      "cell_type": "code",
      "source": [
        "from nltk.stem.porter import PorterStemmer\n",
        "\n",
        "from nltk.tokenize import word_tokenize\n",
        "\n",
        "stemmer = PorterStemmer()\n",
        "\n",
        "#stem words in the list of tokenised words\n",
        "def stem_words(text):\n",
        "  word_tokens = word_tokenize(text)\n",
        "  stems = [stemmer.stem(word) for word in word_tokens]\n",
        "  return stems\n",
        "\n",
        "text =(\"In the rugged terrain of the Western Ghats, Shivaji Maharaj, the founder of the Maratha Empire, was preparing for another day of strategic planning and military campaigns. Known for his innovative tactics and leadership, Shivaji Maharaj was determined to strengthen his kingdom and protect his people from external threats.\"\n",
        "\n",
        "\"Shivaji Maharaj’s stronghold was the Raigad Fort, a formidable fortress perched high on a hilltop. The fort's strategic location allowed him to oversee the surrounding lands and defend against invaders. His trusted advisors and generals would gather in the fort's grand hall to discuss plans, share intelligence, and make critical decisions for the empire's expansion.\"\n",
        "\n",
        "\"The evenings in Shivaji Maharaj's court were vibrant with activity. He would host feasts and gatherings to bolster the morale of his soldiers and celebrate victories. During these events, Shivaji Maharaj would address his people, sharing his vision for a prosperous and united Maratha Empire. His leadership inspired loyalty and courage among his subjects.\"\n",
        "\n",
        "\"As night fell, Shivaji Maharaj would retire to his quarters, reflecting on the day's achievements and preparing for the challenges ahead. His dreams were filled with visions of a strong and resilient empire, where justice and valor would prevail.\")\n",
        "\n",
        "stem_words(text)"
      ],
      "metadata": {
        "colab": {
          "base_uri": "https://localhost:8080/"
        },
        "id": "dCwWYVWA2t3x",
        "outputId": "20ffd5de-21e6-4b8d-f1f2-bd6e16b0f2e2"
      },
      "execution_count": 36,
      "outputs": [
        {
          "output_type": "execute_result",
          "data": {
            "text/plain": [
              "['in',\n",
              " 'the',\n",
              " 'rug',\n",
              " 'terrain',\n",
              " 'of',\n",
              " 'the',\n",
              " 'western',\n",
              " 'ghat',\n",
              " ',',\n",
              " 'shivaji',\n",
              " 'maharaj',\n",
              " ',',\n",
              " 'the',\n",
              " 'founder',\n",
              " 'of',\n",
              " 'the',\n",
              " 'maratha',\n",
              " 'empir',\n",
              " ',',\n",
              " 'wa',\n",
              " 'prepar',\n",
              " 'for',\n",
              " 'anoth',\n",
              " 'day',\n",
              " 'of',\n",
              " 'strateg',\n",
              " 'plan',\n",
              " 'and',\n",
              " 'militari',\n",
              " 'campaign',\n",
              " '.',\n",
              " 'known',\n",
              " 'for',\n",
              " 'hi',\n",
              " 'innov',\n",
              " 'tactic',\n",
              " 'and',\n",
              " 'leadership',\n",
              " ',',\n",
              " 'shivaji',\n",
              " 'maharaj',\n",
              " 'wa',\n",
              " 'determin',\n",
              " 'to',\n",
              " 'strengthen',\n",
              " 'hi',\n",
              " 'kingdom',\n",
              " 'and',\n",
              " 'protect',\n",
              " 'hi',\n",
              " 'peopl',\n",
              " 'from',\n",
              " 'extern',\n",
              " 'threats.shivaji',\n",
              " 'maharaj',\n",
              " '’',\n",
              " 's',\n",
              " 'stronghold',\n",
              " 'wa',\n",
              " 'the',\n",
              " 'raigad',\n",
              " 'fort',\n",
              " ',',\n",
              " 'a',\n",
              " 'formid',\n",
              " 'fortress',\n",
              " 'perch',\n",
              " 'high',\n",
              " 'on',\n",
              " 'a',\n",
              " 'hilltop',\n",
              " '.',\n",
              " 'the',\n",
              " 'fort',\n",
              " \"'s\",\n",
              " 'strateg',\n",
              " 'locat',\n",
              " 'allow',\n",
              " 'him',\n",
              " 'to',\n",
              " 'overse',\n",
              " 'the',\n",
              " 'surround',\n",
              " 'land',\n",
              " 'and',\n",
              " 'defend',\n",
              " 'against',\n",
              " 'invad',\n",
              " '.',\n",
              " 'hi',\n",
              " 'trust',\n",
              " 'advisor',\n",
              " 'and',\n",
              " 'gener',\n",
              " 'would',\n",
              " 'gather',\n",
              " 'in',\n",
              " 'the',\n",
              " 'fort',\n",
              " \"'s\",\n",
              " 'grand',\n",
              " 'hall',\n",
              " 'to',\n",
              " 'discuss',\n",
              " 'plan',\n",
              " ',',\n",
              " 'share',\n",
              " 'intellig',\n",
              " ',',\n",
              " 'and',\n",
              " 'make',\n",
              " 'critic',\n",
              " 'decis',\n",
              " 'for',\n",
              " 'the',\n",
              " 'empir',\n",
              " \"'s\",\n",
              " 'expansion.th',\n",
              " 'even',\n",
              " 'in',\n",
              " 'shivaji',\n",
              " 'maharaj',\n",
              " \"'s\",\n",
              " 'court',\n",
              " 'were',\n",
              " 'vibrant',\n",
              " 'with',\n",
              " 'activ',\n",
              " '.',\n",
              " 'he',\n",
              " 'would',\n",
              " 'host',\n",
              " 'feast',\n",
              " 'and',\n",
              " 'gather',\n",
              " 'to',\n",
              " 'bolster',\n",
              " 'the',\n",
              " 'moral',\n",
              " 'of',\n",
              " 'hi',\n",
              " 'soldier',\n",
              " 'and',\n",
              " 'celebr',\n",
              " 'victori',\n",
              " '.',\n",
              " 'dure',\n",
              " 'these',\n",
              " 'event',\n",
              " ',',\n",
              " 'shivaji',\n",
              " 'maharaj',\n",
              " 'would',\n",
              " 'address',\n",
              " 'hi',\n",
              " 'peopl',\n",
              " ',',\n",
              " 'share',\n",
              " 'hi',\n",
              " 'vision',\n",
              " 'for',\n",
              " 'a',\n",
              " 'prosper',\n",
              " 'and',\n",
              " 'unit',\n",
              " 'maratha',\n",
              " 'empir',\n",
              " '.',\n",
              " 'hi',\n",
              " 'leadership',\n",
              " 'inspir',\n",
              " 'loyalti',\n",
              " 'and',\n",
              " 'courag',\n",
              " 'among',\n",
              " 'hi',\n",
              " 'subjects.a',\n",
              " 'night',\n",
              " 'fell',\n",
              " ',',\n",
              " 'shivaji',\n",
              " 'maharaj',\n",
              " 'would',\n",
              " 'retir',\n",
              " 'to',\n",
              " 'hi',\n",
              " 'quarter',\n",
              " ',',\n",
              " 'reflect',\n",
              " 'on',\n",
              " 'the',\n",
              " 'day',\n",
              " \"'s\",\n",
              " 'achiev',\n",
              " 'and',\n",
              " 'prepar',\n",
              " 'for',\n",
              " 'the',\n",
              " 'challeng',\n",
              " 'ahead',\n",
              " '.',\n",
              " 'hi',\n",
              " 'dream',\n",
              " 'were',\n",
              " 'fill',\n",
              " 'with',\n",
              " 'vision',\n",
              " 'of',\n",
              " 'a',\n",
              " 'strong',\n",
              " 'and',\n",
              " 'resili',\n",
              " 'empir',\n",
              " ',',\n",
              " 'where',\n",
              " 'justic',\n",
              " 'and',\n",
              " 'valor',\n",
              " 'would',\n",
              " 'prevail',\n",
              " '.']"
            ]
          },
          "metadata": {},
          "execution_count": 36
        }
      ]
    },
    {
      "cell_type": "code",
      "source": [
        "from nltk.stem import wordnet\n",
        "from nltk.tokenize import word_tokenize\n",
        "\n",
        "def lemmatize_word(text):\n",
        "\n",
        "\n",
        "  nltk.download('wordnet')\n",
        "  word_tokens = word_tokenize(text)\n",
        "\n",
        "\n",
        "  lemmas = [wordnet.WordNetLemmatizer().lemmatize(word, pos='v') for word in word_tokens]\n",
        "\n",
        "  return lemmas\n",
        "\n",
        "\n",
        "text =(\"In the rugged terrain of the Western Ghats, Shivaji Maharaj, the founder of the Maratha Empire, was preparing for another day of strategic planning and military campaigns. Known for his innovative tactics and leadership, Shivaji Maharaj was determined to strengthen his kingdom and protect his people from external threats.\"\n",
        "\n",
        "\"Shivaji Maharaj’s stronghold was the Raigad Fort, a formidable fortress perched high on a hilltop. The fort's strategic location allowed him to oversee the surrounding lands and defend against invaders. His trusted advisors and generals would gather in the fort's grand hall to discuss plans, share intelligence, and make critical decisions for the empire's expansion.\"\n",
        "\n",
        "\"The evenings in Shivaji Maharaj's court were vibrant with activity. He would host feasts and gatherings to bolster the morale of his soldiers and celebrate victories. During these events, Shivaji Maharaj would address his people, sharing his vision for a prosperous and united Maratha Empire. His leadership inspired loyalty and courage among his subjects.\"\n",
        "\n",
        "\"As night fell, Shivaji Maharaj would retire to his quarters, reflecting on the day's achievements and preparing for the challenges ahead. His dreams were filled with visions of a strong and resilient empire, where justice and valor would prevail.\")\n",
        "\n",
        "lemmatized_words = lemmatize_word(text)\n",
        "print(lemmatized_words)"
      ],
      "metadata": {
        "colab": {
          "base_uri": "https://localhost:8080/"
        },
        "id": "l9OELbM-3vRi",
        "outputId": "d97dffaf-1b66-4517-acdf-a0b962672f97"
      },
      "execution_count": 37,
      "outputs": [
        {
          "output_type": "stream",
          "name": "stderr",
          "text": [
            "[nltk_data] Downloading package wordnet to /root/nltk_data...\n",
            "[nltk_data]   Package wordnet is already up-to-date!\n"
          ]
        },
        {
          "output_type": "stream",
          "name": "stdout",
          "text": [
            "['In', 'the', 'rugged', 'terrain', 'of', 'the', 'Western', 'Ghats', ',', 'Shivaji', 'Maharaj', ',', 'the', 'founder', 'of', 'the', 'Maratha', 'Empire', ',', 'be', 'prepare', 'for', 'another', 'day', 'of', 'strategic', 'plan', 'and', 'military', 'campaign', '.', 'Known', 'for', 'his', 'innovative', 'tactics', 'and', 'leadership', ',', 'Shivaji', 'Maharaj', 'be', 'determine', 'to', 'strengthen', 'his', 'kingdom', 'and', 'protect', 'his', 'people', 'from', 'external', 'threats.Shivaji', 'Maharaj', '’', 's', 'stronghold', 'be', 'the', 'Raigad', 'Fort', ',', 'a', 'formidable', 'fortress', 'perch', 'high', 'on', 'a', 'hilltop', '.', 'The', 'fort', \"'s\", 'strategic', 'location', 'allow', 'him', 'to', 'oversee', 'the', 'surround', 'land', 'and', 'defend', 'against', 'invaders', '.', 'His', 'trust', 'advisors', 'and', 'general', 'would', 'gather', 'in', 'the', 'fort', \"'s\", 'grand', 'hall', 'to', 'discuss', 'plan', ',', 'share', 'intelligence', ',', 'and', 'make', 'critical', 'decisions', 'for', 'the', 'empire', \"'s\", 'expansion.The', 'even', 'in', 'Shivaji', 'Maharaj', \"'s\", 'court', 'be', 'vibrant', 'with', 'activity', '.', 'He', 'would', 'host', 'feast', 'and', 'gather', 'to', 'bolster', 'the', 'morale', 'of', 'his', 'soldier', 'and', 'celebrate', 'victories', '.', 'During', 'these', 'events', ',', 'Shivaji', 'Maharaj', 'would', 'address', 'his', 'people', ',', 'share', 'his', 'vision', 'for', 'a', 'prosperous', 'and', 'unite', 'Maratha', 'Empire', '.', 'His', 'leadership', 'inspire', 'loyalty', 'and', 'courage', 'among', 'his', 'subjects.As', 'night', 'fell', ',', 'Shivaji', 'Maharaj', 'would', 'retire', 'to', 'his', 'quarter', ',', 'reflect', 'on', 'the', 'day', \"'s\", 'achievements', 'and', 'prepare', 'for', 'the', 'challenge', 'ahead', '.', 'His', 'dream', 'be', 'fill', 'with', 'visions', 'of', 'a', 'strong', 'and', 'resilient', 'empire', ',', 'where', 'justice', 'and', 'valor', 'would', 'prevail', '.']\n"
          ]
        }
      ]
    },
    {
      "cell_type": "code",
      "source": [
        "from nltk.tokenize import word_tokenize\n",
        "from nltk import pos_tag\n",
        "\n",
        "# download averaged perceptron tagger\n",
        "nltk.download('averaged_perceptron_tagger')\n",
        "\n",
        "# convert text into word tokens with their tags\n",
        "def pos_tagg(text):\n",
        "    word_tokens = word_tokenize(text)\n",
        "    return pos_tag(word_tokens)\n",
        "\n",
        "# Example usage\n",
        "pos_tagg(\"In the rugged terrain of the Western Ghats, Shivaji Maharaj, the founder of the Maratha Empire, was preparing for another day of strategic planning and military campaigns. Known for his innovative tactics and leadership, Shivaji Maharaj was determined to strengthen his kingdom and protect his people from external threats.\"\n",
        "\n",
        "\"Shivaji Maharaj’s stronghold was the Raigad Fort, a formidable fortress perched high on a hilltop. The fort's strategic location allowed him to oversee the surrounding lands and defend against invaders. His trusted advisors and generals would gather in the fort's grand hall to discuss plans, share intelligence, and make critical decisions for the empire's expansion.\"\n",
        "\n",
        "\"The evenings in Shivaji Maharaj's court were vibrant with activity. He would host feasts and gatherings to bolster the morale of his soldiers and celebrate victories. During these events, Shivaji Maharaj would address his people, sharing his vision for a prosperous and united Maratha Empire. His leadership inspired loyalty and courage among his subjects.\"\n",
        "\n",
        "\"As night fell, Shivaji Maharaj would retire to his quarters, reflecting on the day's achievements and preparing for the challenges ahead. His dreams were filled with visions of a strong and resilient empire, where justice and valor would prevail.\")\n"
      ],
      "metadata": {
        "colab": {
          "base_uri": "https://localhost:8080/"
        },
        "id": "GIBwG5G840nu",
        "outputId": "c12dc48c-64ce-4da4-b90b-7d7a563bb9b4"
      },
      "execution_count": 38,
      "outputs": [
        {
          "output_type": "stream",
          "name": "stderr",
          "text": [
            "[nltk_data] Downloading package averaged_perceptron_tagger to\n",
            "[nltk_data]     /root/nltk_data...\n",
            "[nltk_data]   Package averaged_perceptron_tagger is already up-to-\n",
            "[nltk_data]       date!\n"
          ]
        },
        {
          "output_type": "execute_result",
          "data": {
            "text/plain": [
              "[('In', 'IN'),\n",
              " ('the', 'DT'),\n",
              " ('rugged', 'JJ'),\n",
              " ('terrain', 'NN'),\n",
              " ('of', 'IN'),\n",
              " ('the', 'DT'),\n",
              " ('Western', 'JJ'),\n",
              " ('Ghats', 'NNP'),\n",
              " (',', ','),\n",
              " ('Shivaji', 'NNP'),\n",
              " ('Maharaj', 'NNP'),\n",
              " (',', ','),\n",
              " ('the', 'DT'),\n",
              " ('founder', 'NN'),\n",
              " ('of', 'IN'),\n",
              " ('the', 'DT'),\n",
              " ('Maratha', 'NNP'),\n",
              " ('Empire', 'NNP'),\n",
              " (',', ','),\n",
              " ('was', 'VBD'),\n",
              " ('preparing', 'VBG'),\n",
              " ('for', 'IN'),\n",
              " ('another', 'DT'),\n",
              " ('day', 'NN'),\n",
              " ('of', 'IN'),\n",
              " ('strategic', 'JJ'),\n",
              " ('planning', 'NN'),\n",
              " ('and', 'CC'),\n",
              " ('military', 'JJ'),\n",
              " ('campaigns', 'NNS'),\n",
              " ('.', '.'),\n",
              " ('Known', 'VBN'),\n",
              " ('for', 'IN'),\n",
              " ('his', 'PRP$'),\n",
              " ('innovative', 'JJ'),\n",
              " ('tactics', 'NNS'),\n",
              " ('and', 'CC'),\n",
              " ('leadership', 'NN'),\n",
              " (',', ','),\n",
              " ('Shivaji', 'NNP'),\n",
              " ('Maharaj', 'NNP'),\n",
              " ('was', 'VBD'),\n",
              " ('determined', 'VBN'),\n",
              " ('to', 'TO'),\n",
              " ('strengthen', 'VB'),\n",
              " ('his', 'PRP$'),\n",
              " ('kingdom', 'NN'),\n",
              " ('and', 'CC'),\n",
              " ('protect', 'VB'),\n",
              " ('his', 'PRP$'),\n",
              " ('people', 'NNS'),\n",
              " ('from', 'IN'),\n",
              " ('external', 'JJ'),\n",
              " ('threats.Shivaji', 'NN'),\n",
              " ('Maharaj', 'NNP'),\n",
              " ('’', 'NNP'),\n",
              " ('s', 'VBD'),\n",
              " ('stronghold', 'NN'),\n",
              " ('was', 'VBD'),\n",
              " ('the', 'DT'),\n",
              " ('Raigad', 'NNP'),\n",
              " ('Fort', 'NNP'),\n",
              " (',', ','),\n",
              " ('a', 'DT'),\n",
              " ('formidable', 'JJ'),\n",
              " ('fortress', 'NN'),\n",
              " ('perched', 'VBN'),\n",
              " ('high', 'RB'),\n",
              " ('on', 'IN'),\n",
              " ('a', 'DT'),\n",
              " ('hilltop', 'NN'),\n",
              " ('.', '.'),\n",
              " ('The', 'DT'),\n",
              " ('fort', 'NN'),\n",
              " (\"'s\", 'POS'),\n",
              " ('strategic', 'JJ'),\n",
              " ('location', 'NN'),\n",
              " ('allowed', 'VBD'),\n",
              " ('him', 'PRP'),\n",
              " ('to', 'TO'),\n",
              " ('oversee', 'VB'),\n",
              " ('the', 'DT'),\n",
              " ('surrounding', 'VBG'),\n",
              " ('lands', 'NNS'),\n",
              " ('and', 'CC'),\n",
              " ('defend', 'VB'),\n",
              " ('against', 'IN'),\n",
              " ('invaders', 'NNS'),\n",
              " ('.', '.'),\n",
              " ('His', 'PRP$'),\n",
              " ('trusted', 'JJ'),\n",
              " ('advisors', 'NNS'),\n",
              " ('and', 'CC'),\n",
              " ('generals', 'NNS'),\n",
              " ('would', 'MD'),\n",
              " ('gather', 'VB'),\n",
              " ('in', 'IN'),\n",
              " ('the', 'DT'),\n",
              " ('fort', 'NN'),\n",
              " (\"'s\", 'POS'),\n",
              " ('grand', 'JJ'),\n",
              " ('hall', 'NN'),\n",
              " ('to', 'TO'),\n",
              " ('discuss', 'VB'),\n",
              " ('plans', 'NNS'),\n",
              " (',', ','),\n",
              " ('share', 'NN'),\n",
              " ('intelligence', 'NN'),\n",
              " (',', ','),\n",
              " ('and', 'CC'),\n",
              " ('make', 'VB'),\n",
              " ('critical', 'JJ'),\n",
              " ('decisions', 'NNS'),\n",
              " ('for', 'IN'),\n",
              " ('the', 'DT'),\n",
              " ('empire', 'NN'),\n",
              " (\"'s\", 'POS'),\n",
              " ('expansion.The', 'JJ'),\n",
              " ('evenings', 'NNS'),\n",
              " ('in', 'IN'),\n",
              " ('Shivaji', 'NNP'),\n",
              " ('Maharaj', 'NNP'),\n",
              " (\"'s\", 'POS'),\n",
              " ('court', 'NN'),\n",
              " ('were', 'VBD'),\n",
              " ('vibrant', 'JJ'),\n",
              " ('with', 'IN'),\n",
              " ('activity', 'NN'),\n",
              " ('.', '.'),\n",
              " ('He', 'PRP'),\n",
              " ('would', 'MD'),\n",
              " ('host', 'VB'),\n",
              " ('feasts', 'NNS'),\n",
              " ('and', 'CC'),\n",
              " ('gatherings', 'NNS'),\n",
              " ('to', 'TO'),\n",
              " ('bolster', 'VB'),\n",
              " ('the', 'DT'),\n",
              " ('morale', 'NN'),\n",
              " ('of', 'IN'),\n",
              " ('his', 'PRP$'),\n",
              " ('soldiers', 'NNS'),\n",
              " ('and', 'CC'),\n",
              " ('celebrate', 'NN'),\n",
              " ('victories', 'NNS'),\n",
              " ('.', '.'),\n",
              " ('During', 'IN'),\n",
              " ('these', 'DT'),\n",
              " ('events', 'NNS'),\n",
              " (',', ','),\n",
              " ('Shivaji', 'NNP'),\n",
              " ('Maharaj', 'NNP'),\n",
              " ('would', 'MD'),\n",
              " ('address', 'VB'),\n",
              " ('his', 'PRP$'),\n",
              " ('people', 'NNS'),\n",
              " (',', ','),\n",
              " ('sharing', 'VBG'),\n",
              " ('his', 'PRP$'),\n",
              " ('vision', 'NN'),\n",
              " ('for', 'IN'),\n",
              " ('a', 'DT'),\n",
              " ('prosperous', 'JJ'),\n",
              " ('and', 'CC'),\n",
              " ('united', 'JJ'),\n",
              " ('Maratha', 'NNP'),\n",
              " ('Empire', 'NNP'),\n",
              " ('.', '.'),\n",
              " ('His', 'PRP$'),\n",
              " ('leadership', 'NN'),\n",
              " ('inspired', 'VBD'),\n",
              " ('loyalty', 'NN'),\n",
              " ('and', 'CC'),\n",
              " ('courage', 'NN'),\n",
              " ('among', 'IN'),\n",
              " ('his', 'PRP$'),\n",
              " ('subjects.As', 'NN'),\n",
              " ('night', 'NN'),\n",
              " ('fell', 'VBD'),\n",
              " (',', ','),\n",
              " ('Shivaji', 'NNP'),\n",
              " ('Maharaj', 'NNP'),\n",
              " ('would', 'MD'),\n",
              " ('retire', 'VB'),\n",
              " ('to', 'TO'),\n",
              " ('his', 'PRP$'),\n",
              " ('quarters', 'NNS'),\n",
              " (',', ','),\n",
              " ('reflecting', 'VBG'),\n",
              " ('on', 'IN'),\n",
              " ('the', 'DT'),\n",
              " ('day', 'NN'),\n",
              " (\"'s\", 'POS'),\n",
              " ('achievements', 'NNS'),\n",
              " ('and', 'CC'),\n",
              " ('preparing', 'VBG'),\n",
              " ('for', 'IN'),\n",
              " ('the', 'DT'),\n",
              " ('challenges', 'NNS'),\n",
              " ('ahead', 'RB'),\n",
              " ('.', '.'),\n",
              " ('His', 'PRP$'),\n",
              " ('dreams', 'NNS'),\n",
              " ('were', 'VBD'),\n",
              " ('filled', 'VBN'),\n",
              " ('with', 'IN'),\n",
              " ('visions', 'NNS'),\n",
              " ('of', 'IN'),\n",
              " ('a', 'DT'),\n",
              " ('strong', 'JJ'),\n",
              " ('and', 'CC'),\n",
              " ('resilient', 'JJ'),\n",
              " ('empire', 'NN'),\n",
              " (',', ','),\n",
              " ('where', 'WRB'),\n",
              " ('justice', 'NN'),\n",
              " ('and', 'CC'),\n",
              " ('valor', 'NN'),\n",
              " ('would', 'MD'),\n",
              " ('prevail', 'VB'),\n",
              " ('.', '.')]"
            ]
          },
          "metadata": {},
          "execution_count": 38
        }
      ]
    },
    {
      "cell_type": "code",
      "source": [
        "text=(\"In the rugged terrain of the Western Ghats, Shivaji Maharaj, the founder of the Maratha Empire, was preparing for another day of strategic planning and military campaigns. Known for his innovative tactics and leadership, Shivaji Maharaj was determined to strengthen his kingdom and protect his people from external threats.\"\n",
        "\n",
        "\"Shivaji Maharaj’s stronghold was the Raigad Fort, a formidable fortress perched high on a hilltop. The fort's strategic location allowed him to oversee the surrounding lands and defend against invaders. His trusted advisors and generals would gather in the fort's grand hall to discuss plans, share intelligence, and make critical decisions for the empire's expansion.\"\n",
        "\n",
        "\"The evenings in Shivaji Maharaj's court were vibrant with activity. He would host feasts and gatherings to bolster the morale of his soldiers and celebrate victories. During these events, Shivaji Maharaj would address his people, sharing his vision for a prosperous and united Maratha Empire. His leadership inspired loyalty and courage among his subjects.\"\n",
        "\n",
        "\"As night fell, Shivaji Maharaj would retire to his quarters, reflecting on the day's achievements and preparing for the challenges ahead. His dreams were filled with visions of a strong and resilient empire, where justice and valor would prevail.\")\n",
        "freqDist = nltk. FreqDist(word_tokenize(text))\n",
        "print(freqDist)\n",
        "print(freqDist[\"Shivaji\"])"
      ],
      "metadata": {
        "colab": {
          "base_uri": "https://localhost:8080/"
        },
        "id": "zy--IU6Z5kVr",
        "outputId": "9e5dfd4c-30bb-4f46-ea76-ae4d7ee30b3e"
      },
      "execution_count": 39,
      "outputs": [
        {
          "output_type": "stream",
          "name": "stdout",
          "text": [
            "<FreqDist with 125 samples and 221 outcomes>\n",
            "5\n"
          ]
        }
      ]
    },
    {
      "cell_type": "code",
      "source": [
        "from nltk import FreqDist"
      ],
      "metadata": {
        "id": "6-VlCQhc6p_6"
      },
      "execution_count": 40,
      "outputs": []
    },
    {
      "cell_type": "code",
      "source": [
        "sent =(\"In the rugged terrain of the Western Ghats, Shivaji Maharaj, the founder of the Maratha Empire, was preparing for another day of strategic planning and military campaigns. Known for his innovative tactics and leadership, Shivaji Maharaj was determined to strengthen his kingdom and protect his people from external threats.\"\n",
        "\n",
        "\"Shivaji Maharaj’s stronghold was the Raigad Fort, a formidable fortress perched high on a hilltop. The fort's strategic location allowed him to oversee the surrounding lands and defend against invaders. His trusted advisors and generals would gather in the fort's grand hall to discuss plans, share intelligence, and make critical decisions for the empire's expansion.\"\n",
        "\n",
        "\"The evenings in Shivaji Maharaj's court were vibrant with activity. He would host feasts and gatherings to bolster the morale of his soldiers and celebrate victories. During these events, Shivaji Maharaj would address his people, sharing his vision for a prosperous and united Maratha Empire. His leadership inspired loyalty and courage among his subjects.\"\n",
        "\n",
        "\"As night fell, Shivaji Maharaj would retire to his quarters, reflecting on the day's achievements and preparing for the challenges ahead. His dreams were filled with visions of a strong and resilient empire, where justice and valor would prevail.\")\n",
        "\n",
        "\n",
        "text_list = sent.split(\" \")\n",
        "\n",
        "freqDist = FreqDist(text_list)\n",
        "words = list(freqDist.keys())\n",
        "\n",
        "print(freqDist['Shivaji','Fort','host'])\n"
      ],
      "metadata": {
        "colab": {
          "base_uri": "https://localhost:8080/"
        },
        "id": "CIiDarPw6-JG",
        "outputId": "47e8c0b3-ee49-469a-9952-1fef143783aa"
      },
      "execution_count": 41,
      "outputs": [
        {
          "output_type": "stream",
          "name": "stdout",
          "text": [
            "0\n"
          ]
        }
      ]
    },
    {
      "cell_type": "code",
      "source": [
        "freqDist.plot(15)"
      ],
      "metadata": {
        "colab": {
          "base_uri": "https://localhost:8080/",
          "height": 520
        },
        "id": "1oF9Thie7oiO",
        "outputId": "8ab7149f-916b-4ce0-ff5e-d0fba31c7a64"
      },
      "execution_count": 42,
      "outputs": [
        {
          "output_type": "display_data",
          "data": {
            "text/plain": [
              "<Figure size 640x480 with 1 Axes>"
            ],
            "image/png": "[encoded data removed]"
          },
          "metadata": {}
        },
        {
          "output_type": "execute_result",
          "data": {
            "text/plain": [
              "<Axes: xlabel='Samples', ylabel='Counts'>"
            ]
          },
          "metadata": {},
          "execution_count": 42
        }
      ]
    },
    {
      "cell_type": "code",
      "source": [
        "from nltk.tokenize.regexp import WhitespaceTokenizer"
      ],
      "metadata": {
        "id": "DyWVaeYI7vGb"
      },
      "execution_count": 43,
      "outputs": []
    },
    {
      "cell_type": "code",
      "source": [
        "n=(\"In the rugged terrain of the Western Ghats, Shivaji Maharaj, the founder of the Maratha Empire, was preparing for another day of strategic planning and military campaigns. Known for his innovative tactics and leadership, Shivaji Maharaj was determined to strengthen his kingdom and protect his people from external threats.\"\n",
        "\n",
        "\"Shivaji Maharaj’s stronghold was the Raigad Fort, a formidable fortress perched high on a hilltop. The fort's strategic location allowed him to oversee the surrounding lands and defend against invaders. His trusted advisors and generals would gather in the fort's grand hall to discuss plans, share intelligence, and make critical decisions for the empire's expansion.\"\n",
        "\n",
        "\"The evenings in Shivaji Maharaj's court were vibrant with activity. He would host feasts and gatherings to bolster the morale of his soldiers and celebrate victories. During these events, Shivaji Maharaj would address his people, sharing his vision for a prosperous and united Maratha Empire. His leadership inspired loyalty and courage among his subjects.\"\n",
        "\n",
        "\"As night fell, Shivaji Maharaj would retire to his quarters, reflecting on the day's achievements and preparing for the challenges ahead. His dreams were filled with visions of a strong and resilient empire, where justice and valor would prevail.\")\n",
        "\n",
        "tokens = WhitespaceTokenizer().tokenize(n)\n",
        "print(len(tokens))\n"
      ],
      "metadata": {
        "colab": {
          "base_uri": "https://localhost:8080/"
        },
        "id": "BTcfTt4G9IIW",
        "outputId": "0dcd5539-37b2-46d3-9417-8117e31ed966"
      },
      "execution_count": 44,
      "outputs": [
        {
          "output_type": "stream",
          "name": "stdout",
          "text": [
            "194\n"
          ]
        }
      ]
    },
    {
      "cell_type": "code",
      "source": [
        "myvocab = set(tokens)\n",
        "print(len(tokens))"
      ],
      "metadata": {
        "colab": {
          "base_uri": "https://localhost:8080/"
        },
        "id": "1_GffKPN9jrd",
        "outputId": "609fa891-cf8c-4791-b9a2-15920070ae41"
      },
      "execution_count": 45,
      "outputs": [
        {
          "output_type": "stream",
          "name": "stdout",
          "text": [
            "194\n"
          ]
        }
      ]
    },
    {
      "cell_type": "code",
      "source": [
        "from nltk.tokenize import sent_tokenize"
      ],
      "metadata": {
        "id": "S_of_nO3-AO6"
      },
      "execution_count": 46,
      "outputs": []
    },
    {
      "cell_type": "code",
      "source": [
        "\n",
        "sentences = sent_tokenize(n)\n",
        "\n",
        "# Count the number of sentences\n",
        "sentence_count = len(sentences)\n",
        "\n",
        "# Print the sentence count\n",
        "print(f\"Sentence count: {sentence_count}\")\n"
      ],
      "metadata": {
        "colab": {
          "base_uri": "https://localhost:8080/"
        },
        "id": "6HOhzxp--OgF",
        "outputId": "9c0194a0-374b-4490-9bb4-29f736248c6c"
      },
      "execution_count": 48,
      "outputs": [
        {
          "output_type": "stream",
          "name": "stdout",
          "text": [
            "Sentence count: 8\n"
          ]
        }
      ]
    },
    {
      "cell_type": "code",
      "source": [
        "words = word_tokenize(n)  # Convert to lower case for consistent counting\n",
        "\n",
        "# Find the longest word and its length\n",
        "longest_word = max(words, key=len)\n",
        "longest_word_length = len(longest_word)\n",
        "\n",
        "print(f\"Longest word: {longest_word}\")\n",
        "print(f\"Length: {longest_word_length}\")"
      ],
      "metadata": {
        "colab": {
          "base_uri": "https://localhost:8080/"
        },
        "id": "Ns5Cc6AS-YDu",
        "outputId": "bcd3ee54-fe3c-4540-da75-ea78457b4bdd"
      },
      "execution_count": 49,
      "outputs": [
        {
          "output_type": "stream",
          "name": "stdout",
          "text": [
            "Longest word: threats.Shivaji\n",
            "Length: 15\n"
          ]
        }
      ]
    },
    {
      "cell_type": "code",
      "source": [
        "import spacy\n",
        "\n",
        "# Load the pre-trained English model\n",
        "nlp = spacy.load(\"en_core_web_sm\")\n",
        "\n",
        "doc = nlp(n)\n",
        "\n",
        "# Extract named entities\n",
        "print(\"Named Entities, Phrases, and Concepts:\")\n",
        "for ent in doc.ents:\n",
        "    print(f\"{ent.text} ({ent.label_})\")"
      ],
      "metadata": {
        "colab": {
          "base_uri": "https://localhost:8080/"
        },
        "id": "EdcrFTGK_3jN",
        "outputId": "130e1dd7-f5f2-47a8-dde4-7d3ad76787e1"
      },
      "execution_count": 50,
      "outputs": [
        {
          "output_type": "stream",
          "name": "stdout",
          "text": [
            "Named Entities, Phrases, and Concepts:\n",
            "Shivaji Maharaj (PERSON)\n",
            "the Maratha Empire (GPE)\n",
            "another day (DATE)\n",
            "Shivaji Maharaj (PERSON)\n",
            "Shivaji Maharaj’s (PERSON)\n",
            "the Raigad Fort (GPE)\n",
            "Shivaji Maharaj's (PERSON)\n",
            "Shivaji Maharaj (PERSON)\n",
            "Maratha Empire (PERSON)\n",
            "Shivaji Maharaj (PERSON)\n",
            "day (DATE)\n"
          ]
        }
      ]
    },
    {
      "cell_type": "code",
      "source": [],
      "metadata": {
        "id": "sfG9UKBZASNF"
      },
      "execution_count": null,
      "outputs": []
    }
  ]
}